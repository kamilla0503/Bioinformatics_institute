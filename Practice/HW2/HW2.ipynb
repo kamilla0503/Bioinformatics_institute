{
 "cells": [
  {
   "cell_type": "code",
   "execution_count": 3,
   "metadata": {},
   "outputs": [],
   "source": [
    "from Bio import AlignIO\n",
    "alignment=AlignIO.read(open(\"alignment_Pan_troglodytes_15_8829071_9176355.fa\"), 'fasta')\n",
    "seq1=str(alignment[0].seq)\n",
    "seq2=str(alignment[1].seq)\n",
    "matches = sum(nuc1 == nuc2 for nuc1, nuc2 in zip(seq1, seq2))\n",
    "identity = 100.0 * matches / len(seq1)\n"
   ]
  },
  {
   "cell_type": "code",
   "execution_count": 4,
   "metadata": {},
   "outputs": [
    {
     "name": "stdout",
     "output_type": "stream",
     "text": [
      "96.41153496951966\n"
     ]
    }
   ],
   "source": [
    "print(identity)"
   ]
  },
  {
   "cell_type": "code",
   "execution_count": null,
   "metadata": {},
   "outputs": [],
   "source": []
  }
 ],
 "metadata": {
  "kernelspec": {
   "display_name": "Python 3",
   "language": "python",
   "name": "python3"
  },
  "language_info": {
   "codemirror_mode": {
    "name": "ipython",
    "version": 3
   },
   "file_extension": ".py",
   "mimetype": "text/x-python",
   "name": "python",
   "nbconvert_exporter": "python",
   "pygments_lexer": "ipython3",
   "version": "3.8.5"
  }
 },
 "nbformat": 4,
 "nbformat_minor": 4
}
