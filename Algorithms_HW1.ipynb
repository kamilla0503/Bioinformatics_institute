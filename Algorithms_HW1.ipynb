{
 "cells": [
  {
   "cell_type": "code",
   "execution_count": 1,
   "metadata": {},
   "outputs": [],
   "source": [
    "import matplotlib.pyplot as plt\n",
    "import random\n",
    "import numpy as np\n",
    "import pandas as pd\n",
    "from matplotlib.ticker import LogFormatter \n",
    "from scipy.optimize import curve_fit\n",
    "from pathlib import Path\n",
    "import matplotlib.colors\n",
    "import regex as re\n",
    "from matplotlib import ticker, cm"
   ]
  },
  {
   "cell_type": "markdown",
   "metadata": {},
   "source": [
    "Reference genome: ftp://ftp.ncbi.nlm.nih.gov/genomes/genbank/bacteria/Escherichia_coli/all_assembly_versions/GCA_000005845.2_ASM584v2/"
   ]
  },
  {
   "cell_type": "code",
   "execution_count": 2,
   "metadata": {},
   "outputs": [],
   "source": [
    "#!wget ftp://ftp.ncbi.nlm.nih.gov/genomes/all/GCF/000/005/845/GCF_000005845.2_ASM584v2/GCF_000005845.2_ASM584v2_genomic.fna.gz"
   ]
  },
  {
   "cell_type": "code",
   "execution_count": 3,
   "metadata": {},
   "outputs": [],
   "source": [
    "#!gunzip *.gz"
   ]
  },
  {
   "cell_type": "code",
   "execution_count": 4,
   "metadata": {},
   "outputs": [],
   "source": [
    "#! echo \"y\" | conda install -c bioconda emboss "
   ]
  },
  {
   "cell_type": "code",
   "execution_count": 5,
   "metadata": {},
   "outputs": [
    {
     "name": "stdout",
     "output_type": "stream",
     "text": [
      "NC_000913.3 4641652\n"
     ]
    }
   ],
   "source": [
    "#Считывание \n",
    "from Bio import SeqIO\n",
    "record = SeqIO.read(\"GCF_000005845.2_ASM584v2_genomic.fna\", \"fasta\")\n",
    "print(\"%s %i\" % (record.id, len(record)))"
   ]
  },
  {
   "cell_type": "code",
   "execution_count": 6,
   "metadata": {},
   "outputs": [
    {
     "data": {
      "text/plain": [
       "Seq('AGCTTTTCATTCTGACTGCAACGGGCAATATGTCTCTGTGTGGATTAAAAAAAG...TTC')"
      ]
     },
     "execution_count": 6,
     "metadata": {},
     "output_type": "execute_result"
    }
   ],
   "source": [
    "record.seq"
   ]
  },
  {
   "cell_type": "code",
   "execution_count": 7,
   "metadata": {},
   "outputs": [
    {
     "data": {
      "text/plain": [
       "0.8617621484764476"
      ]
     },
     "execution_count": 7,
     "metadata": {},
     "output_type": "execute_result"
    }
   ],
   "source": [
    "4000000/4641652 #надо обработать пересечения аккуратно "
   ]
  },
  {
   "cell_type": "code",
   "execution_count": 8,
   "metadata": {},
   "outputs": [],
   "source": [
    "genome_string = record.seq\n",
    "n = 1000\n",
    "l = 4000\n",
    "#случайно выберем 1000 индексов  и будем брать по ним \n",
    "k = len(genome_string)//n\n",
    "indexes = np.random.randint(len(genome_string)//n-4000, size=n)  \n",
    "\n",
    "seq_1000 = [] \n",
    "for i in range(len(indexes)):\n",
    "    start = i*k+indexes[i]\n",
    "    seq_1000.append(genome_string[start:start+l])"
   ]
  },
  {
   "cell_type": "code",
   "execution_count": 39,
   "metadata": {},
   "outputs": [],
   "source": [
    "nucleotides = ['A', 'T', 'G', 'C']\n",
    "\n",
    "def freq_k1(genome_array):\n",
    "    l = len(genome_array[0])*len(genome_array)  \n",
    "    frequencies = { 'A' : 0, 'T' : 0,'G' : 0,'C' : 0}\n",
    "    for genome in genome_array:\n",
    "        for nucleotide in nucleotides:\n",
    "            frequencies[nucleotide] += genome.count(nucleotide) / l \n",
    "    return frequencies\n",
    "\n",
    "#Возможно, не самыц красивый способ получить частоты, и можно рекурсивно\n",
    "#но главное, что работает\n",
    "\n",
    "def freq_k2(genome_array):      \n",
    "    frequencies = {}    \n",
    "    for first in nucleotides:\n",
    "        for second in nucleotides:     \n",
    "            frequencies.update({first+second : 0 })   \n",
    "    num_dinucleotides = (len(genome_array[0]) - 1.0)   \n",
    "    for genome in genome_array:\n",
    "        \n",
    "        for dinucleotide in frequencies.keys(): \n",
    "            frequencies[dinucleotide] = 4*len(re.findall(dinucleotide, str(genome), overlapped=True)) / num_dinucleotides\n",
    "    \n",
    "    return frequencies \n",
    "\n",
    "def freq_k3(genome_array):      \n",
    "    frequencies = {}    \n",
    "    for first in nucleotides:\n",
    "        for second in nucleotides:\n",
    "            for third in nucleotides:\n",
    "                frequencies.update({first+second + third : 0 })   \n",
    "    num_trinucleotides = (len(genome_array[0]) - 2.0)   \n",
    "    \n",
    "    for genome in genome_array:       \n",
    "        for trinucleotide in frequencies.keys(): \n",
    "            frequencies[trinucleotide] = 16*len(re.findall(trinucleotide, str(genome), overlapped=True)) / num_trinucleotides\n",
    "    \n",
    "    return frequencies \n",
    "\n",
    "def freq_k4(genome_array): \n",
    "    frequencies = {}    \n",
    "    for first in nucleotides:\n",
    "        for second in nucleotides:\n",
    "            for third in nucleotides:\n",
    "                for fourth in nucleotides:\n",
    "                    frequencies.update({first+second + third + fourth : 0 })\n",
    "    num_quadnucleotides = (len(genome_array[0]) - 3.0)   \n",
    "    \n",
    "    for genome in genome_array:\n",
    "        for quadnucleotide in frequencies.keys(): \n",
    "            frequencies[quadnucleotide] = 64*len(re.findall(quadnucleotide, str(genome), overlapped=True)) / num_quadnucleotides\n",
    "    \n",
    "    return frequencies "
   ]
  },
  {
   "cell_type": "markdown",
   "metadata": {},
   "source": [
    "Ниже просто тесты для проверки, что сумма частот равна единице "
   ]
  },
  {
   "cell_type": "code",
   "execution_count": 40,
   "metadata": {},
   "outputs": [
    {
     "data": {
      "text/plain": [
       "{'A': 0.24641099999999988,\n",
       " 'T': 0.24600625000000004,\n",
       " 'G': 0.2535025,\n",
       " 'C': 0.2540802500000002}"
      ]
     },
     "execution_count": 40,
     "metadata": {},
     "output_type": "execute_result"
    }
   ],
   "source": [
    "freq_k1(seq_1000)"
   ]
  },
  {
   "cell_type": "code",
   "execution_count": 44,
   "metadata": {},
   "outputs": [],
   "source": [
    "def log_bern(genome_array, test):\n",
    "    #Правдоподобие для Бернулевской модели\n",
    "    frequencies = freq_k1(genome_array)\n",
    "    total_probability = 0\n",
    "    for nucleotide in nucleotides:\n",
    "        total_probability += test.count(nucleotide) * np.log(frequencies[nucleotide])\n",
    "                \n",
    "    return total_probability"
   ]
  },
  {
   "cell_type": "code",
   "execution_count": 45,
   "metadata": {},
   "outputs": [],
   "source": [
    "def log_markov(genome_array, test, order=1):\n",
    "    #Правдободобие для Марковских моделей порядка 1, 2 или 3\n",
    "        \n",
    "    nucleotide_frequencies = freq_k1(genome_array)\n",
    "    \n",
    "    if (order==1):\n",
    "        frequencies = freq_k2(genome_array)\n",
    "    elif (order==2):\n",
    "        frequencies = freq_k3(genome_array)\n",
    "    else:\n",
    "        frequencies = freq_k4(genome_array)        \n",
    "    counts = {}\n",
    "    for seq in frequencies.keys():\n",
    "        counts[seq] = len(re.findall(seq, test, overlapped=True))\n",
    "                              \n",
    "    total_probability = 0\n",
    "    \n",
    "    for nucleotide in test[0:order]:\n",
    "        total_probability += np.log(nucleotide_frequencies[nucleotide])\n",
    "        \n",
    "    transitions = frequencies\n",
    "    for seq in transitions:\n",
    "        total_probability += counts[seq] * np.log(transitions[seq])\n",
    "        \n",
    "    return total_probability"
   ]
  },
  {
   "cell_type": "code",
   "execution_count": 46,
   "metadata": {},
   "outputs": [],
   "source": [
    "record = SeqIO.read(\"GCF_000005845.2_ASM584v2_genomic.fna\", \"fasta\")"
   ]
  },
  {
   "cell_type": "markdown",
   "metadata": {},
   "source": [
    "Бернулевская модель: "
   ]
  },
  {
   "cell_type": "code",
   "execution_count": 47,
   "metadata": {},
   "outputs": [
    {
     "name": "stdout",
     "output_type": "stream",
     "text": [
      "AIC =  12868237.39\n",
      "BIC =  12868257.02\n"
     ]
    }
   ],
   "source": [
    "n = 1000 #Размер обучающей выборки\n",
    "logprob = log_bern(seq_1000, str(record.seq))\n",
    "m = 4  #число параметров \n",
    "AIC = 2*m - 2*logprob\n",
    "BIC = np.log(n)*m - 2*logprob\n",
    "print(\"AIC = \", round(AIC, 2))\n",
    "print(\"BIC = \", round(BIC, 2)) \n",
    " "
   ]
  },
  {
   "cell_type": "markdown",
   "metadata": {},
   "source": [
    "Модели Маркова: "
   ]
  },
  {
   "cell_type": "code",
   "execution_count": 48,
   "metadata": {},
   "outputs": [
    {
     "name": "stdout",
     "output_type": "stream",
     "text": [
      "I order: \n",
      "AIC =  12810655.76\n",
      "BIC =  12810734.29\n",
      "II order: \n",
      "AIC =  12683943.08\n",
      "BIC =  12684257.17\n",
      "III order: \n",
      "AIC =  12739321.35\n",
      "BIC =  12740577.73\n"
     ]
    }
   ],
   "source": [
    "n = 1000 #Размер обучающей выборки\n",
    "\n",
    "print(\"I order: \")\n",
    "logprob = log_markov(seq_1000, str(record.seq), 1)\n",
    "m = 16  #число параметров \n",
    "AIC = 2*m - 2*logprob\n",
    "BIC = np.log(n)*m - 2*logprob\n",
    "print(\"AIC = \", round(AIC, 2))\n",
    "print(\"BIC = \", round(BIC, 2)) \n",
    " \n",
    "print(\"II order: \")\n",
    "logprob = log_markov(seq_1000, str(record.seq), 2)\n",
    "m = 4**3  #число параметров \n",
    "AIC = 2*m - 2*logprob\n",
    "BIC = np.log(n)*m - 2*logprob\n",
    "print(\"AIC = \", round(AIC, 2))\n",
    "print(\"BIC = \", round(BIC, 2)) \n",
    "\n",
    "print(\"III order: \")\n",
    "logprob = log_markov(seq_1000, str(record.seq), 3)\n",
    "m = 4**4  #число параметров \n",
    "AIC = 2*m - 2*logprob\n",
    "BIC = np.log(n)*m - 2*logprob\n",
    "print(\"AIC = \", round(AIC, 2))\n",
    "print(\"BIC = \", round(BIC, 2)) "
   ]
  },
  {
   "cell_type": "markdown",
   "metadata": {},
   "source": [
    "Самые маленький значений критериев BIC и AIC получились для модели Маркова второго порядка.\n",
    "Можно предположить, что эта модель наилучшим образом описывается структуру днк."
   ]
  },
  {
   "cell_type": "code",
   "execution_count": null,
   "metadata": {},
   "outputs": [],
   "source": []
  }
 ],
 "metadata": {
  "kernelspec": {
   "display_name": "Python 3",
   "language": "python",
   "name": "python3"
  },
  "language_info": {
   "codemirror_mode": {
    "name": "ipython",
    "version": 3
   },
   "file_extension": ".py",
   "mimetype": "text/x-python",
   "name": "python",
   "nbconvert_exporter": "python",
   "pygments_lexer": "ipython3",
   "version": "3.8.5"
  }
 },
 "nbformat": 4,
 "nbformat_minor": 4
}
