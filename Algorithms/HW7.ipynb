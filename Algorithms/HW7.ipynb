{
 "cells": [
  {
   "cell_type": "code",
   "execution_count": 2,
   "metadata": {},
   "outputs": [],
   "source": [
    "import numpy as np\n"
   ]
  },
  {
   "cell_type": "code",
   "execution_count": 63,
   "metadata": {},
   "outputs": [],
   "source": [
    "#hw1\n",
    "def compare(a,b, match=1, mismatch=-1):\n",
    "    if(a==b):\n",
    "        return match\n",
    "    return mismatch\n",
    "\n",
    "def n_w(seq1, seq2, match =1, mismatch=-1, gap = -1):\n",
    "    matrix_weights = np.zeros((len(seq1)+1, len(seq2)+1))\n",
    "    matrix_weights[0, :] = np.arange(0, -len(seq2)-1, -1)\n",
    "    matrix_weights[:, 0] = np.arange(0, -len(seq1)-1, -1)\n",
    "    for i in range( 1,matrix_weights.shape[0]):\n",
    "        for j in range(1 ,matrix_weights.shape[1]):\n",
    "      \n",
    "            if(seq1[i-1]==seq2[j-1]):\n",
    "                s1 = matrix_weights[i-1][j-1]+match\n",
    "            else:\n",
    "                s1 = matrix_weights[i-1][j-1]+mismatch\n",
    "            s2 = matrix_weights[i][j-1]+gap\n",
    "            s3 = matrix_weights[i-1][j]+gap\n",
    "            matrix_weights[i][j] = max(s1,s2,s3)\n",
    "    seq_alignment1 = \"\"\n",
    "    seq_alignment2 = \"\"\n",
    "    i = len(seq1)\n",
    "    j = len(seq2)\n",
    "    while(i>0 or j>0):\n",
    " \n",
    "        #print(i,j)\n",
    "        if (  (i>0 and j>0) and  matrix_weights[i][j] == matrix_weights[i-1][j-1]+ compare(seq1[i-1], seq2[j-1],match, mismatch ) ):\n",
    "        #print(i, j)\n",
    "            seq_alignment1  = seq1[i-1]+seq_alignment1 \n",
    "            seq_alignment2  = seq2[j-1]+seq_alignment2 \n",
    "        #print(seq_alignment2, seq_alignment1)\n",
    "            i-=1\n",
    "            j-=1\n",
    "    \n",
    "        elif ( i>0 and matrix_weights[i][j] == matrix_weights[i-1][j]+ gap):\n",
    "        \n",
    "            seq_alignment1  = seq1[i-1]+seq_alignment1 \n",
    "            seq_alignment2  = \"-\"+seq_alignment2   \n",
    "            i-=1\n",
    "        else:\n",
    "        \n",
    "            seq_alignment1  = \"-\"+seq_alignment1 \n",
    "            seq_alignment2  = seq2[j-1]+seq_alignment2         \n",
    "            j=j-1\n",
    "      \n",
    "    #print(seq_alignment1)\n",
    "    #print(seq_alignment2)\n",
    "    #print(matrix_weights)\n",
    "    return seq_alignment1, seq_alignment2"
   ]
  },
  {
   "cell_type": "code",
   "execution_count": 64,
   "metadata": {},
   "outputs": [],
   "source": [
    "seq1=\"PEEMSVTSLDLTGGLPEATTPESEEAFTLPLLNDPEPKPSLEPVKNISNMELKAEPFD\"\n",
    "seq2=\"PEEMSVASLDLTGGLPEASTPESEEAFTLPLLNDPEPKPSLEPVKSISNVELKAEPFD\"\n",
    "seq3=\"SEELAAATALDLGAPSPAAAEEAFALPLMTEAPPAVPPKEPSGSGLELKAEPFD\"\n",
    "seq4=\"PGPGPLAEVRDLPGSTSAKEDGFGWLLPPPPPPPLPFQ\"\n",
    "seq5=\"PGPGPLAEVRDLPGSAPAKEDGFSWLLPPPPPPPLPFQ\"\n",
    "\n",
    "args = [seq1, seq2, seq3, seq4, seq5]"
   ]
  },
  {
   "cell_type": "code",
   "execution_count": 65,
   "metadata": {},
   "outputs": [],
   "source": [
    "def entropy(list_input):\n",
    "    unique_base = set(list_input)\n",
    "    entropy_list = []    \n",
    "    for base in unique_base:\n",
    "        n_i = list_input.count(base)  \n",
    "        P_i = n_i/len(list_input)  \n",
    "        entropy_i = P_i*(np.log(P_i)/np.log(2))\n",
    "        entropy_list.append(entropy_i)\n",
    "\n",
    "    entropy = -(np.sum(entropy_list))\n",
    "\n",
    "    return entropy"
   ]
  },
  {
   "cell_type": "code",
   "execution_count": 77,
   "metadata": {},
   "outputs": [
    {
     "data": {
      "text/plain": [
       "array([[       nan,        nan,        nan,        nan,        nan],\n",
       "       [0.93103448,        nan,        nan,        nan,        nan],\n",
       "       [0.48387097, 0.51612903,        nan,        nan,        nan],\n",
       "       [0.27586207, 0.30508475, 0.32142857,        nan,        nan],\n",
       "       [0.28813559, 0.30508475, 0.33333333, 0.92105263,        nan]])"
      ]
     },
     "execution_count": 77,
     "metadata": {},
     "output_type": "execute_result"
    }
   ],
   "source": [
    "#es = np.nan((len(args), len(args)))\n",
    "def nans(shape, dtype=float):\n",
    "    a = np.empty(shape, dtype)\n",
    "    a.fill(np.nan)\n",
    "    return a\n",
    "\n",
    "identity_matrix =nans([len(args),len(args)])\n",
    "for i in range(len(args)):\n",
    "    for j in range(i+1, len(args)):\n",
    "        #print(j)\n",
    "        \n",
    "        seq_alignment1, seq_alignment2 = n_w(args[j], args[i])\n",
    "        #print(len(seq_alignment1), len(seq_alignment2))\n",
    "        count=0\n",
    "        for e in range(len(seq_alignment1)):\n",
    "            #print(e, end=\" \")\n",
    "            if(seq_alignment1[e]==seq_alignment2[e]):\n",
    "                count=count+1\n",
    "        \n",
    "        identity_matrix [j][i]= count/(len(seq_alignment1))\n",
    "        \n",
    "        \n",
    "identity_matrix \n",
    " "
   ]
  },
  {
   "cell_type": "code",
   "execution_count": 81,
   "metadata": {},
   "outputs": [],
   "source": [
    "def dist(k,l,M):\n",
    "    if k < l:\n",
    "        return(M[k,l])\n",
    "    else:\n",
    "        return(M[l,k])\n",
    "    \n",
    "def upd_ind(i,j,index,d):\n",
    "    a = index.pop(i)\n",
    "    if type(a) == int:\n",
    "        aa = a\n",
    "    else:\n",
    "        aa = a.copy()\n",
    "    da = 0\n",
    "    b = index.pop(j-1)\n",
    "    if type(b) == int:\n",
    "        bb = b\n",
    "    else:\n",
    "        bb = b.copy()\n",
    "    db = 0\n",
    "    while(type(aa) != int):\n",
    "       \n",
    "        aa = aa.pop()\n",
    "        da += aa[1]\n",
    "        aa = aa[0]\n",
    "    while(type(bb) != int):\n",
    "      \n",
    "        bb = bb.pop(0)\n",
    "       \n",
    "        db += bb[1]\n",
    "        bb = bb[0]\n",
    "    \n",
    "    a = [a, d/2 - da]\n",
    "    b = [b, d/2 - db]\n",
    "    index.append([a,b]) \n",
    "    return(index)\n",
    "\n",
    "\n",
    "def create_ind(n):\n",
    "    res = []\n",
    "    for i in range(n):\n",
    "        res.append(i)\n",
    "    return(res)\n",
    "\n",
    "def WPGMA( M):\n",
    "    index = create_ind(M.shape[0])\n",
    "    step = 1\n",
    "    while M.shape[0] > 2:\n",
    "  \n",
    "        ind = np.unravel_index(np.nanargmin(M), M.shape)\n",
    "\n",
    "        N = np.delete(M, [ind[0],ind[1]], 0)\n",
    "        N = np.delete(N, [ind[0],ind[1]], 1)\n",
    "\n",
    "        a = np.zeros(N.shape[0]+1)\n",
    "        a.fill(np.nan)\n",
    "        b = np.zeros((N.shape[0],1))\n",
    "        N = np.hstack((N,b))\n",
    "        N = np.vstack((N,a))\n",
    "\n",
    "        nxt = 0\n",
    "        for i in range(M.shape[0]):\n",
    "            if i == ind[0] or i == ind[1]:\n",
    "                continue\n",
    "  \n",
    "            N[nxt,N.shape[1]-1] =(dist(i,ind[0],M) + dist(i, ind[1], M))/2\n",
    "            nxt += 1\n",
    "     \n",
    "        upd_ind(ind[0], ind[1],index, dist(ind[0], ind[1], M))\n",
    "        M = N\n",
    "        step+=1\n",
    "    upd_ind(0, 1,index, dist(0, 1, M))\n",
    "\n",
    "    return(index)"
   ]
  },
  {
   "cell_type": "code",
   "execution_count": 92,
   "metadata": {},
   "outputs": [
    {
     "data": {
      "text/plain": [
       "(1, 2, 2)"
      ]
     },
     "execution_count": 92,
     "metadata": {},
     "output_type": "execute_result"
    }
   ],
   "source": [
    "#tree= np.array(WPGMA(identity_matrix.T ))\n",
    "\n",
    "#tsize = tree.shape\n",
    "#tsize"
   ]
  },
  {
   "cell_type": "code",
   "execution_count": 109,
   "metadata": {},
   "outputs": [
    {
     "data": {
      "text/plain": [
       "array([[[list([[1, 0.15254237288135594], [4, 0.15254237288135594]]),\n",
       "         0.10647213865010743],\n",
       "        [list([[2, 0.20132488479262672], [[[0, 0.13793103448275862], [3, 0.13793103448275862]], 0.0633938503098681]]),\n",
       "         0.05768962673883665]]], dtype=object)"
      ]
     },
     "execution_count": 109,
     "metadata": {},
     "output_type": "execute_result"
    }
   ],
   "source": [
    "tree"
   ]
  },
  {
   "cell_type": "code",
   "execution_count": null,
   "metadata": {},
   "outputs": [],
   "source": [
    "\n",
    "\n",
    "\n",
    " \n"
   ]
  },
  {
   "cell_type": "code",
   "execution_count": null,
   "metadata": {},
   "outputs": [],
   "source": []
  },
  {
   "cell_type": "code",
   "execution_count": null,
   "metadata": {},
   "outputs": [],
   "source": [
    " "
   ]
  },
  {
   "cell_type": "code",
   "execution_count": null,
   "metadata": {},
   "outputs": [],
   "source": []
  }
 ],
 "metadata": {
  "kernelspec": {
   "display_name": "Python 3",
   "language": "python",
   "name": "python3"
  },
  "language_info": {
   "codemirror_mode": {
    "name": "ipython",
    "version": 3
   },
   "file_extension": ".py",
   "mimetype": "text/x-python",
   "name": "python",
   "nbconvert_exporter": "python",
   "pygments_lexer": "ipython3",
   "version": "3.7.3"
  }
 },
 "nbformat": 4,
 "nbformat_minor": 2
}
