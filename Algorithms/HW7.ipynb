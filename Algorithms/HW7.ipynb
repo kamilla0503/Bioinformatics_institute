{
 "cells": [
  {
   "cell_type": "code",
   "execution_count": 1,
   "metadata": {},
   "outputs": [],
   "source": [
    "import numpy as np\n",
    "import scipy as sp\n",
    "\n",
    "from scipy.cluster.hierarchy import to_tree\n",
    "from skbio.alignment import global_pairwise_align_nucleotide\n",
    "from skbio import DNA\n",
    "import skbio\n",
    "from skbio import Sequence, DNA, TabularMSA, TreeNode, DistanceMatrix\n",
    "from skbio.alignment import local_pairwise_align_ssw"
   ]
  },
  {
   "cell_type": "code",
   "execution_count": 2,
   "metadata": {},
   "outputs": [],
   "source": [
    "#генерировала рандомно 1 и 5, а остальные получила просто вставкой символов  \n",
    "\n",
    "seq1=\"ACACGGTGAACCTCCGGACTTGAAAGACGTCCCGAAAGTTGTTTACGGTC\"\n",
    "seq2=\"ACACGGTGAACCTCCGGACTTGAAAGACCATCTTCAACCACTCGCTCAGC\"\n",
    "seq3=\"ACACGGTGAACCTCCGCATCTTCAACCACTCGCTCAGCTGTTTACGGTC\"\n",
    "seq4=\"AGAACACACGGTGAACCTCCGGACTTGAAAGACGTCCCGAAAGTTGTTTACGGTC\"\n",
    "seq5=\"AGAACAAGTTTCCCTCCAGCGGAGACAACATCTTCAACCACTCGCTCAGC\"\n",
    "\n",
    "args = [seq1, seq2, seq3, seq4, seq5]\n",
    "\n",
    "\n",
    "def kmer_distance(sequence1, sequence2, k=3, overlap=True):\n",
    "    sequence1_kmers = set(map(str, sequence1.iter_kmers(k, overlap)))\n",
    "    sequence2_kmers = set(map(str, sequence2.iter_kmers(k, overlap)))\n",
    "    all_kmers = sequence1_kmers | sequence2_kmers\n",
    "    shared_kmers = sequence1_kmers & sequence2_kmers\n",
    "    number_unique = len(all_kmers) - len(shared_kmers)\n",
    "    fraction_unique = number_unique / len(all_kmers)\n",
    "    return fraction_unique\n",
    "\n",
    "\n",
    "args = [DNA(seq1, {\"id\": \"s1\"}),DNA(seq2, {\"id\": \"s2\"}), DNA(seq3, {\"id\": \"s3\"}),DNA(seq4, {\"id\": \"s4\"}),DNA(seq5, {\"id\": \"s5\"})]"
   ]
  },
  {
   "cell_type": "code",
   "execution_count": 3,
   "metadata": {},
   "outputs": [
    {
     "name": "stdout",
     "output_type": "stream",
     "text": [
      "5x5 distance matrix\n",
      "IDs:\n",
      "'s1', 's2', 's3', 's4', 's5'\n",
      "Data:\n",
      "[[0.         0.5        0.52173913 0.         0.58695652]\n",
      " [0.5        0.         0.33333333 0.5        0.325     ]\n",
      " [0.52173913 0.33333333 0.         0.52173913 0.43181818]\n",
      " [0.         0.5        0.52173913 0.         0.58695652]\n",
      " [0.58695652 0.325      0.43181818 0.58695652 0.        ]]\n"
     ]
    }
   ],
   "source": [
    "identity_matrix = DistanceMatrix.from_iterable(args, metric=kmer_distance, key='id')\n",
    "\n",
    "print(identity_matrix)"
   ]
  },
  {
   "cell_type": "code",
   "execution_count": 4,
   "metadata": {},
   "outputs": [],
   "source": [
    "# просто использую загугленный способ из scipy посмотреть, последовательности 2 и 5 вместе, что очень логично! \n",
    "# меняла их минимально \n",
    "guide_d = sp.cluster.hierarchy.dendrogram(  sp.cluster.hierarchy.average(identity_matrix.condensed_form()), labels=identity_matrix.ids, orientation='right', link_color_func=lambda x: 'black')\n"
   ]
  },
  {
   "cell_type": "code",
   "execution_count": 5,
   "metadata": {},
   "outputs": [],
   "source": [
    "#к сожалению, теперь это не дз 5\n",
    "\n",
    "def upgma(sequences, metric=kmer_distance):\n",
    "    \"\"\" \n",
    "    Используется структура skbio.TreeNode.\n",
    "    Это невзвешенна (UPGMA), не моя,  а готовая сайпаевская((( \n",
    "\n",
    "    \"\"\"\n",
    "    guide_dm = DistanceMatrix.from_iterable(\n",
    "                    sequences, metric=metric, key='id')\n",
    "    guide_lm = sp.cluster.hierarchy.average(guide_dm.condensed_form())\n",
    "    #guide_tree = to_tree(guide_lm)\n",
    "    \n",
    "    guide_tree = TreeNode.from_linkage_matrix(guide_lm, guide_dm.ids)\n",
    "\n",
    "    return guide_tree"
   ]
  },
  {
   "cell_type": "code",
   "execution_count": 6,
   "metadata": {},
   "outputs": [
    {
     "data": {
      "text/plain": [
       "<TreeNode, name: unnamed, internal node count: 3, tips count: 5>"
      ]
     },
     "execution_count": 6,
     "metadata": {},
     "output_type": "execute_result"
    }
   ],
   "source": [
    "tree = upgma( args )\n",
    "\n",
    "tree"
   ]
  },
  {
   "cell_type": "code",
   "execution_count": 7,
   "metadata": {},
   "outputs": [
    {
     "name": "stdout",
     "output_type": "stream",
     "text": [
      "((s1:0.0,s4:0.0):0.26811594202898553,(s3:0.19128787878787878,(s2:0.1625,s5:0.1625):0.02878787878787878):0.07682806324110675);\n",
      "\n"
     ]
    }
   ],
   "source": [
    "print(tree)"
   ]
  },
  {
   "cell_type": "code",
   "execution_count": 8,
   "metadata": {},
   "outputs": [],
   "source": [
    "\n",
    "def align(args, tree):\n",
    " \n",
    "    seq_lookup = {s.metadata['id']: s for i, s in enumerate(args)}  #это просто информация последовательностей из данных DNA \n",
    "     \n",
    "    c1, c2 = tree.children\n",
    "    if c1.is_tip():\n",
    "        c1_aln = seq_lookup[c1.name]\n",
    "    else:\n",
    "        c1_aln =  align(args, c1)\n",
    "\n",
    "    if c2.is_tip():\n",
    "        c2_aln = seq_lookup[c2.name]\n",
    "    else:\n",
    "        c2_aln =  align(args, c2)\n",
    "        \n",
    "    alignment, a, b= global_pairwise_align_nucleotide(c1_aln, c2_aln) #a,b не нужны, так как это оценка выравнивания и начало позиций \n",
    " \n",
    " #проверка для проходов \n",
    "    if isinstance(c1_aln, Sequence):\n",
    "        alignment[0].metadata = c1_aln.metadata\n",
    "        len_c1_aln = 1\n",
    "    else:\n",
    "        for i in range(len(c1_aln)):\n",
    "            alignment[i].metadata = c1_aln[i].metadata\n",
    "        len_c1_aln = len(c1_aln)\n",
    "    if isinstance(c2_aln, Sequence):\n",
    "        alignment[1].metadata = c2_aln.metadata\n",
    "    else:\n",
    "        for i in range(len(c2_aln)):\n",
    "            alignment[len_c1_aln + i].metadata = c2_aln[i].metadata\n",
    "            \n",
    "\n",
    "    return alignment\n"
   ]
  },
  {
   "cell_type": "code",
   "execution_count": 9,
   "metadata": {},
   "outputs": [
    {
     "name": "stderr",
     "output_type": "stream",
     "text": [
      "/home/kamilla/anaconda3/lib/python3.7/site-packages/skbio/alignment/_pairwise.py:599: EfficiencyWarning: You're using skbio's python implementation of Needleman-Wunsch alignment. This is known to be very slow (e.g., thousands of times slower than a native C implementation). We'll be adding a faster version soon (see https://github.com/biocore/scikit-bio/issues/254 to track progress on this).\n",
      "  \"to track progress on this).\", EfficiencyWarning)\n"
     ]
    },
    {
     "name": "stdout",
     "output_type": "stream",
     "text": [
      "TabularMSA[DNA]\n",
      "-----------------------------------------------------------------------\n",
      "Stats:\n",
      "    sequence count: 5\n",
      "    position count: 122\n",
      "-----------------------------------------------------------------------\n",
      "--------------------------------- ... ACTTGAAAGACGTCCCGAAAGTTGTTTACGGTC\n",
      "--------------------------------- ... ACTTGAAAGACGTCCCGAAAGTTGTTTACGGTC\n",
      "------------------ACACGGTGAACCTCC ... ---------------------------------\n",
      "---ACACGGTGAACCTCCGGACT-TGAAAGACC ... ---------------------------------\n",
      "AGAACAAGTTTC-CCTCCAG-CG--GAGACAAC ... ---------------------------------\n"
     ]
    }
   ],
   "source": [
    "\n",
    "result =  align(args, tree)\n",
    "print(result)"
   ]
  },
  {
   "cell_type": "markdown",
   "metadata": {},
   "source": [
    "Выглядит ужасно. В целом, последовательности сильно различаются.\n",
    "\n",
    "\n",
    "Ниже пример поближе. "
   ]
  },
  {
   "cell_type": "code",
   "execution_count": 10,
   "metadata": {},
   "outputs": [
    {
     "name": "stdout",
     "output_type": "stream",
     "text": [
      "TabularMSA[DNA]\n",
      "-------------------------------------------------------\n",
      "Stats:\n",
      "    sequence count: 5\n",
      "    position count: 55\n",
      "-------------------------------------------------------\n",
      "ACACGGTGAACCTCCGGAAATTGAAAGACGTCCCGAAAGTTGTTTACGGTC----\n",
      "ACACGGTGAACCTCCGGAC-TTGAAAGACGTCCCGCAAGTTGTTTACGGTC----\n",
      "--ACGGTGAACCTCCGGAC-TTGAAAGACGTCCCGAAAGTTGTTTACGGTC----\n",
      "ACACGGTGAACCTCCGGAC-TTGAAAGACGTCCCGAAAGTTGTTTACGGTC----\n",
      "ACACGGTGAACCTCCGGAC-TTGAAAGACGTCCCGAAAGTTGTTTACGGTCCGTC\n"
     ]
    }
   ],
   "source": [
    "seq1=\"ACACGGTGAACCTCCGGACTTGAAAGACGTCCCGAAAGTTGTTTACGGTC\"\n",
    "seq2=\"ACGGTGAACCTCCGGACTTGAAAGACGTCCCGAAAGTTGTTTACGGTC\"\n",
    "seq3=\"ACACGGTGAACCTCCGGAAATTGAAAGACGTCCCGAAAGTTGTTTACGGTC\"\n",
    "seq4=\"ACACGGTGAACCTCCGGACTTGAAAGACGTCCCGCAAGTTGTTTACGGTC\"\n",
    "seq5=\"ACACGGTGAACCTCCGGACTTGAAAGACGTCCCGAAAGTTGTTTACGGTCCGTC\"\n",
    "\n",
    "\n",
    "args = [DNA(seq1, {\"id\": \"s1\"}),DNA(seq2, {\"id\": \"s2\"}), DNA(seq3, {\"id\": \"s3\"}),DNA(seq4, {\"id\": \"s4\"}),DNA(seq5, {\"id\": \"s5\"})]\n",
    "identity_matrix = DistanceMatrix.from_iterable(args, metric=kmer_distance, key='id')\n",
    "tree = upgma( args )\n",
    "\n",
    "result = align(args, tree)\n",
    "print(result)"
   ]
  },
  {
   "cell_type": "code",
   "execution_count": 11,
   "metadata": {},
   "outputs": [
    {
     "data": {
      "image/png": "[encoded data removed]",
      "text/plain": [
       "<Figure size 432x288 with 1 Axes>"
      ]
     },
     "metadata": {
      "needs_background": "light"
     },
     "output_type": "display_data"
    }
   ],
   "source": [
    "guide_d = sp.cluster.hierarchy.dendrogram(  sp.cluster.hierarchy.average(identity_matrix.condensed_form()), labels=identity_matrix.ids, orientation='right', link_color_func=lambda x: 'black')\n"
   ]
  },
  {
   "cell_type": "code",
   "execution_count": null,
   "metadata": {},
   "outputs": [],
   "source": []
  }
 ],
 "metadata": {
  "kernelspec": {
   "display_name": "Python 3",
   "language": "python",
   "name": "python3"
  },
  "language_info": {
   "codemirror_mode": {
    "name": "ipython",
    "version": 3
   },
   "file_extension": ".py",
   "mimetype": "text/x-python",
   "name": "python",
   "nbconvert_exporter": "python",
   "pygments_lexer": "ipython3",
   "version": "3.7.3"
  }
 },
 "nbformat": 4,
 "nbformat_minor": 2
}
