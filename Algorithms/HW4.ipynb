{
 "cells": [
  {
   "cell_type": "code",
   "execution_count": 2,
   "metadata": {},
   "outputs": [],
   "source": [
    "import numpy as np\n",
    "from collections import defaultdict"
   ]
  },
  {
   "cell_type": "code",
   "execution_count": 9,
   "metadata": {},
   "outputs": [],
   "source": [
    "def two(i,j,M):\n",
    "    s = 0\n",
    "    for k in range(i+2, j-1):\n",
    "        s = max(s, M[i,k]+M[k+1,j])\n",
    "    return(s)\n",
    "eq = {'A':'U', 'U':'A', 'C':'G', 'G':'C'}\n",
    "\n",
    "\n",
    "\n",
    "def build_hairpin(x, index, pin, M):\n",
    "    while(index[1] - index[0] >= 0):\n",
    "\n",
    "        \n",
    "        \n",
    "        if eq[x[index[0]]] ==  x[index[1]] and M[index[0], index[1]] == M[index[0]+1, index[1] - 1]+1:\n",
    "            pin.append([x[index[0]], x[index[1]]])\n",
    "            index[0] +=1\n",
    "            index[1] -=1\n",
    "            \n",
    "            \n",
    "            \n",
    "            \n",
    "        elif M[index[0], index[1]] == M[index[0]+1, index[1]]:\n",
    "            pin.append([x[index[0]], None])\n",
    "            index[0] +=1\n",
    "        elif M[index[0], index[1]] == M[index[0], index[1] - 1]:\n",
    "            pin.append([None, x[index[1]]])\n",
    "            index[1] -= 1\n",
    "        else:\n",
    "            shift = 0\n",
    "            for k in range(index[0]+2, index[1]-1):\n",
    "                if M[index[0], index[1]] ==  M[index[0],k]+M[k+1,index[1]]:\n",
    "                    shift = k\n",
    "                    break\n",
    "            print([index[0], shift])\n",
    "            print([shift+1, index[1]])\n",
    "            build_hairpin(x, [index[0], shift], pin, M)\n",
    "            build_hairpin(x, [shift+1, index[1]], pin, M)\n",
    "            break\n",
    "                \n",
    "            #print \n",
    " "
   ]
  },
  {
   "cell_type": "code",
   "execution_count": null,
   "metadata": {},
   "outputs": [],
   "source": []
  },
  {
   "cell_type": "code",
   "execution_count": null,
   "metadata": {},
   "outputs": [],
   "source": []
  },
  {
   "cell_type": "code",
   "execution_count": 10,
   "metadata": {},
   "outputs": [
    {
     "name": "stdout",
     "output_type": "stream",
     "text": [
      "['C', None]\n",
      "['A', None]\n",
      "['G', None]\n",
      "['G', 'C']\n"
     ]
    }
   ],
   "source": [
    "def Nussin(x):\n",
    "    M = np.zeros((len(x), len(x)))\n",
    "    for d in range(3, len(x)):\n",
    "  \n",
    "        for i in range(len(x)-d):\n",
    "            j = i+d\n",
    "            M[i,j] = M[i, j-1]\n",
    "            if (i<len(x)-1):\n",
    "                M[i,j] = max(M[i,j], M[i+1,j])\n",
    "                if (eq[x[i]]==x[j]):\n",
    "                    M[i,j] = max(M[i,j], M[i+1, j-1]+1)\n",
    "            #    \n",
    "            if (d > 4):\n",
    "                M[i,j] = max(M[i,j], two(i,j,M))\n",
    " \n",
    "    index = np.array([0, len(x)-1])\n",
    "    pin = []\n",
    " \n",
    "    build_hairpin(x, index, pin, M)\n",
    "    for i in range(len(pin)-1,-1, -1):\n",
    "        print(pin[i])\n",
    "        \n",
    "seq = 'GGACC'\n",
    "Nussin(seq)\n",
    "\n",
    "\n",
    "#спаренные основания 1 раз "
   ]
  },
  {
   "cell_type": "code",
   "execution_count": null,
   "metadata": {},
   "outputs": [],
   "source": []
  },
  {
   "cell_type": "code",
   "execution_count": 11,
   "metadata": {},
   "outputs": [
    {
     "name": "stdout",
     "output_type": "stream",
     "text": [
      "['A', None]\n",
      "['U', None]\n",
      "['U', None]\n",
      "['A', None]\n",
      "['G', 'C']\n",
      "['G', 'C']\n",
      "['A', None]\n",
      "['G', 'C']\n",
      "['U', 'A']\n",
      "['A', 'U']\n",
      "['C', 'G']\n",
      "['A', None]\n",
      "['A', None]\n",
      "['A', 'U']\n"
     ]
    }
   ],
   "source": [
    "seq = 'AAACAUGAGGAUUACCCAUGU'\n",
    "Nussin(seq)"
   ]
  },
  {
   "cell_type": "code",
   "execution_count": null,
   "metadata": {},
   "outputs": [],
   "source": [
    "#7 пар"
   ]
  }
 ],
 "metadata": {
  "kernelspec": {
   "display_name": "Python 3",
   "language": "python",
   "name": "python3"
  },
  "language_info": {
   "codemirror_mode": {
    "name": "ipython",
    "version": 3
   },
   "file_extension": ".py",
   "mimetype": "text/x-python",
   "name": "python",
   "nbconvert_exporter": "python",
   "pygments_lexer": "ipython3",
   "version": "3.7.3"
  }
 },
 "nbformat": 4,
 "nbformat_minor": 2
}
