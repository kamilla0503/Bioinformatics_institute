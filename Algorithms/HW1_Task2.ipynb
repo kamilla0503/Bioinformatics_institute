{
 "cells": [
  {
   "cell_type": "code",
   "execution_count": 17,
   "metadata": {},
   "outputs": [],
   "source": [
    "import numpy as np\n",
    "\n",
    " "
   ]
  },
  {
   "cell_type": "markdown",
   "metadata": {},
   "source": [
    "## Задание 1\n"
   ]
  },
  {
   "cell_type": "code",
   "execution_count": 68,
   "metadata": {},
   "outputs": [],
   "source": [
    "\n",
    "def compare(a,b, match=1, mismatch=-1):\n",
    "    if(a==b):\n",
    "        return match\n",
    "    return mismatch\n",
    "\n",
    "def n_w(seq1, seq2, match =1, mismatch=-1, gap = -1):\n",
    "    matrix_weights = np.zeros((len(seq1)+1, len(seq2)+1))\n",
    "    matrix_weights[0, :] = np.arange(0, -len(seq2)-1, -1)\n",
    "    matrix_weights[:, 0] = np.arange(0, -len(seq1)-1, -1)\n",
    "    for i in range( 1,matrix_weights.shape[0]):\n",
    "        for j in range(1 ,matrix_weights.shape[1]):\n",
    "      \n",
    "            if(seq1[i-1]==seq2[j-1]):\n",
    "                s1 = matrix_weights[i-1][j-1]+match\n",
    "            else:\n",
    "                s1 = matrix_weights[i-1][j-1]+mismatch\n",
    "            s2 = matrix_weights[i][j-1]+gap\n",
    "            s3 = matrix_weights[i-1][j]+gap\n",
    "            matrix_weights[i][j] = max(s1,s2,s3)\n",
    "    seq_alignment1 = \"\"\n",
    "    seq_alignment2 = \"\"\n",
    "    i = len(seq1)\n",
    "    j = len(seq2)\n",
    "    while(i>0 or j>0):\n",
    " \n",
    "        #print(i,j)\n",
    "        if (  (i>0 and j>0) and  matrix_weights[i][j] == matrix_weights[i-1][j-1]+ compare(seq1[i-1], seq2[j-1],match, mismatch ) ):\n",
    "        #print(i, j)\n",
    "            seq_alignment1  = seq1[i-1]+seq_alignment1 \n",
    "            seq_alignment2  = seq2[j-1]+seq_alignment2 \n",
    "        #print(seq_alignment2, seq_alignment1)\n",
    "            i-=1\n",
    "            j-=1\n",
    "    \n",
    "        elif ( i>0 and matrix_weights[i][j] == matrix_weights[i-1][j]+ gap):\n",
    "        \n",
    "            seq_alignment1  = seq1[i-1]+seq_alignment1 \n",
    "            seq_alignment2  = \"-\"+seq_alignment2   \n",
    "            i-=1\n",
    "        else:\n",
    "        \n",
    "            seq_alignment1  = \"-\"+seq_alignment1 \n",
    "            seq_alignment2  = seq2[j-1]+seq_alignment2         \n",
    "            j=j-1\n",
    "      \n",
    "    print(seq_alignment1)\n",
    "    print(seq_alignment2)\n",
    "    #print(matrix_weights)\n",
    "    return seq_alignment1, seq_alignment2"
   ]
  },
  {
   "cell_type": "markdown",
   "metadata": {},
   "source": [
    "Пример 0. \n",
    "\n",
    " Последовательность 1: GATTACA\n",
    " \n",
    " Последовательность 2: GCATGCU"
   ]
  },
  {
   "cell_type": "code",
   "execution_count": 69,
   "metadata": {},
   "outputs": [
    {
     "name": "stdout",
     "output_type": "stream",
     "text": [
      "G-ATTACA\n",
      "GCA-TGCU\n"
     ]
    },
    {
     "data": {
      "text/plain": [
       "('G-ATTACA', 'GCA-TGCU')"
      ]
     },
     "execution_count": 69,
     "metadata": {},
     "output_type": "execute_result"
    }
   ],
   "source": [
    "seq1 = \"GATTACA\"\n",
    "seq2 = \"GCATGCU\"\n",
    "\n",
    "n_w(seq1, seq2)"
   ]
  },
  {
   "cell_type": "markdown",
   "metadata": {},
   "source": [
    "Пример 1. \n",
    "\n",
    "Последовательность 1: GATTACAACCGTACACCTAGCCGAC\n",
    "\n",
    "Последовательность 2: GATTGCGATTACAACCGATTGATAC"
   ]
  },
  {
   "cell_type": "code",
   "execution_count": 31,
   "metadata": {},
   "outputs": [
    {
     "name": "stdout",
     "output_type": "stream",
     "text": [
      "GATTACAACCGTAC-ACC--TAGCCGAC\n",
      "GATTGCGA--TTACAACCGATTG-ATAC\n"
     ]
    },
    {
     "data": {
      "text/plain": [
       "('GATTACAACCGTAC-ACC--TAGCCGAC', 'GATTGCGA--TTACAACCGATTG-ATAC')"
      ]
     },
     "execution_count": 31,
     "metadata": {},
     "output_type": "execute_result"
    }
   ],
   "source": [
    "seq1 = \"GATTACAACCGTACACCTAGCCGAC\"\n",
    "seq2 = \"GATTGCGATTACAACCGATTGATAC\"\n",
    "\n",
    "n_w(seq1, seq2)"
   ]
  },
  {
   "cell_type": "markdown",
   "metadata": {},
   "source": [
    "Тест 2: Алгоритм с весами 1 (совпадение), -1 (несовпадение), -0.499 (гэп)."
   ]
  },
  {
   "cell_type": "code",
   "execution_count": 33,
   "metadata": {},
   "outputs": [
    {
     "name": "stdout",
     "output_type": "stream",
     "text": [
      "GATT-AC-A--ACCGTACACC---T-A-GCCGAC\n",
      "GATTG-CGATTA-C--A-ACCGATTGAT----AC\n"
     ]
    },
    {
     "data": {
      "text/plain": [
       "('GATT-AC-A--ACCGTACACC---T-A-GCCGAC', 'GATTG-CGATTA-C--A-ACCGATTGAT----AC')"
      ]
     },
     "execution_count": 33,
     "metadata": {},
     "output_type": "execute_result"
    }
   ],
   "source": [
    " n_w(seq1, seq2, match=1, mismatch=-1, gap = -0.499)"
   ]
  },
  {
   "cell_type": "markdown",
   "metadata": {},
   "source": [
    "По сравнению с первым примером стало больше гэпов (вставок и делений), так как штраф за гэп стал меньше.  "
   ]
  },
  {
   "cell_type": "markdown",
   "metadata": {},
   "source": [
    "## Задание 2\n",
    "\n"
   ]
  },
  {
   "cell_type": "markdown",
   "metadata": {},
   "source": [
    "|   | - | A | T | G | C |\n",
    "|---|---|---|---|---|---|\n",
    "| - ||   |   |   |   |\n",
    "| A |   |   |   |   |   |\n",
    "| T |   |   |   |   |   |\n",
    "| G |   |   |   |   |   |\n",
    "| C |   |   |   |   |   |"
   ]
  },
  {
   "cell_type": "code",
   "execution_count": 79,
   "metadata": {},
   "outputs": [],
   "source": [
    "\n",
    "index = {\"A\" : 1, \"T\": 2,  \"G\":3, \"C\":4 }\n",
    "\n",
    "def n_w_matrix(seq1, seq2, matrix):\n",
    "    matrix_weights = np.zeros((len(seq1)+1, len(seq2)+1))\n",
    "    matrix_weights[0, :] = np.arange(0, -len(seq2)-1, -1)\n",
    "    matrix_weights[:, 0] = np.arange(0, -len(seq1)-1, -1)\n",
    "    for i in range( 1,matrix_weights.shape[0]):\n",
    "        for j in range(1 ,matrix_weights.shape[1]):\n",
    "      \n",
    "            s1 = matrix_weights[i-1,j-1]+matrix[index[seq1[i-1]],index[seq2[j-1]]]\n",
    "            s2 = matrix_weights[i][j-1]+matrix[index[seq1[i-1]],0]\n",
    "            s3 = matrix_weights[i-1][j]+matrix[0, index[seq2[j-1]]]\n",
    "            matrix_weights[i][j] = max(s1,s2,s3)\n",
    "    seq_alignment1 = \"\"\n",
    "    seq_alignment2 = \"\"\n",
    "    i = len(seq1)\n",
    "    j = len(seq2)\n",
    "    while(i>0 or j>0):\n",
    " \n",
    "        #print(i,j)\n",
    "        if (  (i>0 and j>0) and  matrix_weights[i][j] == matrix_weights[i-1][j-1]+ matrix[index[seq1[i-1]], index[seq2[j-1]]]):\n",
    "            seq_alignment1  = seq1[i-1]+seq_alignment1 \n",
    "            seq_alignment2  = seq2[j-1]+seq_alignment2 \n",
    "        #print(seq_alignment2, seq_alignment1)\n",
    "            i-=1\n",
    "            j-=1\n",
    "    \n",
    "        elif ( i>0 and matrix_weights[i][j] == matrix_weights[i-1][j]+ matrix[index[seq1[i-1]],0]):\n",
    "        \n",
    "            seq_alignment1  = seq1[i-1]+seq_alignment1 \n",
    "            seq_alignment2  = \"-\"+seq_alignment2   \n",
    "            i-=1\n",
    "        else:\n",
    "        \n",
    "            seq_alignment1  = \"-\"+seq_alignment1 \n",
    "            seq_alignment2  = seq2[j-1]+seq_alignment2         \n",
    "            j=j-1\n",
    "      \n",
    "    print(seq_alignment1)\n",
    "    print(seq_alignment2)\n",
    "    #print(matrix_weights)\n",
    "    return seq_alignment1, seq_alignment2"
   ]
  },
  {
   "cell_type": "code",
   "execution_count": 80,
   "metadata": {},
   "outputs": [
    {
     "name": "stdout",
     "output_type": "stream",
     "text": [
      "G-ATTACA\n",
      "GCA-TGCA\n"
     ]
    },
    {
     "data": {
      "text/plain": [
       "('G-ATTACA', 'GCA-TGCA')"
      ]
     },
     "execution_count": 80,
     "metadata": {},
     "output_type": "execute_result"
    }
   ],
   "source": [
    "seq1 = \"GATTACA\"\n",
    "seq2 = \"GCATGCA\"\n",
    "\n",
    "matrix = np.array([[-1,-1,-1,-1,-1],[-1,1,-1,-1,-1],[-1,-1,1,-1,-1],[-1,-1,-1,1,-1],[-1,-1,-1,-1,1] ])\n",
    "n_w_matrix(seq1, seq2, matrix)"
   ]
  },
  {
   "cell_type": "code",
   "execution_count": 81,
   "metadata": {},
   "outputs": [
    {
     "name": "stdout",
     "output_type": "stream",
     "text": [
      "G-ATTACA\n",
      "GCAT-GCA\n"
     ]
    },
    {
     "data": {
      "text/plain": [
       "('G-ATTACA', 'GCAT-GCA')"
      ]
     },
     "execution_count": 81,
     "metadata": {},
     "output_type": "execute_result"
    }
   ],
   "source": [
    "seq1 = \"GATTACA\"\n",
    "seq2 = \"GCATGCA\"\n",
    "\n",
    "matrix = np.array([[-1,-2,-1,-1,-1],[-2,2,-2,-1,-1],[-1,-2,1,-1,-1],[-1,-1,-1,1,-1],[-1,-1,-1,-1,2] ])\n",
    "n_w_matrix(seq1, seq2, matrix)"
   ]
  },
  {
   "cell_type": "code",
   "execution_count": 82,
   "metadata": {},
   "outputs": [
    {
     "name": "stdout",
     "output_type": "stream",
     "text": [
      "GATTACAACCGTAC-ACCTAGCCG--AC\n",
      "GATTGCGAT--TACAACCGAT-TGATAC\n"
     ]
    },
    {
     "data": {
      "text/plain": [
       "('GATTACAACCGTAC-ACCTAGCCG--AC', 'GATTGCGAT--TACAACCGAT-TGATAC')"
      ]
     },
     "execution_count": 82,
     "metadata": {},
     "output_type": "execute_result"
    }
   ],
   "source": [
    "seq1 = \"GATTACAACCGTACACCTAGCCGAC\"\n",
    "seq2 = \"GATTGCGATTACAACCGATTGATAC\"\n",
    "\n",
    "matrix = np.array([[-1,-2,-1,-1,-1],[-2,2,-2,-1,-1],[-1,-2,1,-1,-1],[-1,-1,-1,1,-1],[-1,-1,-1,-1,2] ])\n",
    "n_w_matrix(seq1, seq2, matrix)"
   ]
  },
  {
   "cell_type": "code",
   "execution_count": 87,
   "metadata": {},
   "outputs": [
    {
     "name": "stdout",
     "output_type": "stream",
     "text": [
      "GATTACAACCGTAC-ACC--TAGCCGAC\n",
      "GATTGCGAT--TACAACCGATTG-ATAC\n"
     ]
    },
    {
     "data": {
      "text/plain": [
       "('GATTACAACCGTAC-ACC--TAGCCGAC', 'GATTGCGAT--TACAACCGATTG-ATAC')"
      ]
     },
     "execution_count": 87,
     "metadata": {},
     "output_type": "execute_result"
    }
   ],
   "source": [
    "seq1 = \"GATTACAACCGTACACCTAGCCGAC\"\n",
    "seq2 = \"GATTGCGATTACAACCGATTGATAC\"\n",
    "\n",
    "matrix = np.array([[-1,-2,-1,-1,-1],[-2,2,-2,-1,-1],[-1,-2,4,-1,-1],[-1,-1,-1,1,-1],[-1,-1,-1,-1,2] ])\n",
    "n_w_matrix(seq1, seq2, matrix)"
   ]
  },
  {
   "cell_type": "markdown",
   "metadata": {},
   "source": [
    "В посленднем примере я решила давать больше score за совпадении ТТ, из-за чего выраванивание поменялось - в нем стало большее совпадений ТТ."
   ]
  },
  {
   "cell_type": "code",
   "execution_count": null,
   "metadata": {},
   "outputs": [],
   "source": []
  }
 ],
 "metadata": {
  "kernelspec": {
   "display_name": "Python 3",
   "language": "python",
   "name": "python3"
  },
  "language_info": {
   "codemirror_mode": {
    "name": "ipython",
    "version": 3
   },
   "file_extension": ".py",
   "mimetype": "text/x-python",
   "name": "python",
   "nbconvert_exporter": "python",
   "pygments_lexer": "ipython3",
   "version": "3.7.3"
  }
 },
 "nbformat": 4,
 "nbformat_minor": 2
}
