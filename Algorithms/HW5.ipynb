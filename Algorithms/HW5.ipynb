{
 "cells": [
  {
   "cell_type": "code",
   "execution_count": 1,
   "metadata": {},
   "outputs": [],
   "source": [
    "import numpy as np"
   ]
  },
  {
   "cell_type": "markdown",
   "metadata": {},
   "source": [
    "## Задание 2 "
   ]
  },
  {
   "cell_type": "markdown",
   "metadata": {},
   "source": [
    "WPGMA\n",
    "\n",
    "Weighted Pair Group Method with Arithmetic Mean "
   ]
  },
  {
   "cell_type": "code",
   "execution_count": 11,
   "metadata": {},
   "outputs": [],
   "source": [
    "def dist(k,l,M):\n",
    "    if k < l:\n",
    "        return(M[k,l])\n",
    "    else:\n",
    "        return(M[l,k])\n",
    "    \n",
    "def upd_ind(i,j,index,d):\n",
    "    a = index.pop(i)\n",
    "    if type(a) == int:\n",
    "        aa = a\n",
    "    else:\n",
    "        aa = a.copy()\n",
    "    da = 0\n",
    "    b = index.pop(j-1)\n",
    "    if type(b) == int:\n",
    "        bb = b\n",
    "    else:\n",
    "        bb = b.copy()\n",
    "    db = 0\n",
    "    while(type(aa) != int):\n",
    "       \n",
    "        aa = aa.pop()\n",
    "        da += aa[1]\n",
    "        aa = aa[0]\n",
    "    while(type(bb) != int):\n",
    "      \n",
    "        bb = bb.pop(0)\n",
    "       \n",
    "        db += bb[1]\n",
    "        bb = bb[0]\n",
    "    \n",
    "    a = [a, d/2 - da]\n",
    "    b = [b, d/2 - db]\n",
    "    index.append([a,b]) \n",
    "    return(index)\n",
    "\n",
    "\n",
    "def create_ind(n):\n",
    "    res = []\n",
    "    for i in range(n):\n",
    "        res.append(i)\n",
    "    return(res)\n",
    "\n",
    "def WPGMA( M):\n",
    "    index = create_ind(M.shape[0])\n",
    "    step = 1\n",
    "    while M.shape[0] > 2:\n",
    "  \n",
    "        ind = np.unravel_index(np.nanargmin(M), M.shape)\n",
    "\n",
    "        N = np.delete(M, [ind[0],ind[1]], 0)\n",
    "        N = np.delete(N, [ind[0],ind[1]], 1)\n",
    "\n",
    "        a = np.zeros(N.shape[0]+1)\n",
    "        a.fill(np.nan)\n",
    "        b = np.zeros((N.shape[0],1))\n",
    "        N = np.hstack((N,b))\n",
    "        N = np.vstack((N,a))\n",
    "\n",
    "        nxt = 0\n",
    "        for i in range(M.shape[0]):\n",
    "            if i == ind[0] or i == ind[1]:\n",
    "                continue\n",
    "  \n",
    "            N[nxt,N.shape[1]-1] =(dist(i,ind[0],M) + dist(i, ind[1], M))/2\n",
    "            nxt += 1\n",
    "     \n",
    "        upd_ind(ind[0], ind[1],index, dist(ind[0], ind[1], M))\n",
    "        M = N\n",
    "        step+=1\n",
    "    upd_ind(0, 1,index, dist(0, 1, M))\n",
    "\n",
    "    return(index)"
   ]
  },
  {
   "cell_type": "markdown",
   "metadata": {},
   "source": [
    "## тест 1 "
   ]
  },
  {
   "cell_type": "code",
   "execution_count": 12,
   "metadata": {},
   "outputs": [
    {
     "name": "stdout",
     "output_type": "stream",
     "text": [
      "[[[0, 7.25], [[[1, 4.0], [[[2, 2.0], [3, 2.0]], 2.0]], 3.25]]]\n"
     ]
    }
   ],
   "source": [
    "M = np.array([[np.nan, 16, 16, 10],\n",
    "              [np.nan, np.nan, 8, 8],\n",
    "              [np.nan, np.nan, np.nan, 4],\n",
    "              [np.nan, np.nan, np.nan, np.nan]])\n",
    "result = WPGMA(M)\n",
    "print(result)\n",
    "#тут пара [index, вес] - одна вершина \n",
    "# на \"[]\" лучше смотреть как на круглые скобки \n",
    "# 0=A, 1=B, 2=C, 3=N\n",
    "\n",
    " \n",
    "#вроде сравнимо с лекцией "
   ]
  },
  {
   "cell_type": "markdown",
   "metadata": {},
   "source": [
    "## тест 2"
   ]
  },
  {
   "cell_type": "code",
   "execution_count": 4,
   "metadata": {},
   "outputs": [
    {
     "name": "stdout",
     "output_type": "stream",
     "text": [
      "[[[5, 4.5], [[[[[4, 2.5]], 1.5], [[[1, 3.0], [[[0, 2.0], [2, 2.0]], 1.0]], 1.0]], 0.5]]]\n"
     ]
    }
   ],
   "source": [
    "M = np.array([[np.nan, 5, 4, 7, 6, 8], [np.nan, np.nan, 7, 10, 9, 11], [np.nan, np.nan, np.nan, 7, 6, 8], [np.nan, np.nan, np.nan, np.nan, 5, 9],\n",
    "              [np.nan, np.nan, np.nan, np.nan, np.nan, 8],  [np.nan, np.nan, np.nan, np.nan, np.nan, np.nan]])\n",
    "result = WPGMA(M)\n",
    "print(result)\n",
    "\n",
    "\n",
    " "
   ]
  },
  {
   "cell_type": "code",
   "execution_count": null,
   "metadata": {},
   "outputs": [],
   "source": []
  },
  {
   "cell_type": "markdown",
   "metadata": {},
   "source": [
    "\n",
    "UPGMA\n",
    "\n",
    "Unweighted Pair Group Method with Arithmetic Mean"
   ]
  },
  {
   "cell_type": "code",
   "execution_count": 5,
   "metadata": {},
   "outputs": [],
   "source": [
    "def UPGMA(M):\n",
    "    #на деле это сделано на основе предыдущей функции \n",
    "    index = create_ind(M.shape[0])\n",
    "    step = 1\n",
    "    while M.shape[0] > 2:\n",
    "        ind = np.unravel_index(np.nanargmin(M), M.shape)\n",
    "        N = np.delete(M, [ind[0],ind[1]], 0)\n",
    "        N = np.delete(N, [ind[0],ind[1]], 1)\n",
    "        a = np.zeros(N.shape[0]+1)\n",
    "        a.fill(np.nan)\n",
    "        b = np.zeros((N.shape[0],1))\n",
    "        N = np.hstack((N,b))\n",
    "        N = np.vstack((N,a))\n",
    "        nxt = 0\n",
    "        for i in range(M.shape[0]):\n",
    "            if i == ind[0] or i == ind[1]:\n",
    "                continue\n",
    "            if (type(index[ind[0]]) != int):\n",
    "                len1 = len(index[ind[0]])\n",
    "            else: \n",
    "                len1=1\n",
    "                \n",
    "            if (type(index[ind[1]]) != int):\n",
    "                len2 = len(index[ind[1]])\n",
    "            else:\n",
    "                len2=1\n",
    "        \n",
    "            N[nxt,N.shape[1]-1] =  (dist(i,ind[0],M)*len1 +  dist(i, ind[1], M)*len2)/(len1 + len2)\n",
    "            \n",
    "            \n",
    "            nxt += 1\n",
    "            \n",
    "        upd_ind(ind[0], ind[1],index, dist(ind[0], ind[1], M))\n",
    "        M = N\n",
    "        step+=1\n",
    "    upd_ind(0, 1,index, dist(0, 1, M))\n",
    "\n",
    "    return(index)"
   ]
  },
  {
   "cell_type": "markdown",
   "metadata": {},
   "source": [
    "## тест 1 "
   ]
  },
  {
   "cell_type": "code",
   "execution_count": 18,
   "metadata": {},
   "outputs": [
    {
     "name": "stdout",
     "output_type": "stream",
     "text": [
      "[[[0, 7.0], [[[1, 4.0], [[[2, 2.0], [3, 2.0]], 2.0]], 3.0]]]\n"
     ]
    }
   ],
   "source": [
    "M = np.array([[np.nan, 16, 16, 10],\n",
    "              [np.nan, np.nan, 8, 8],\n",
    "              [np.nan, np.nan, np.nan, 4],\n",
    "              [np.nan, np.nan, np.nan, np.nan]])\n",
    "result = UPGMA(M)\n",
    "print(result)"
   ]
  },
  {
   "cell_type": "code",
   "execution_count": 7,
   "metadata": {},
   "outputs": [],
   "source": [
    "# аналогично на \"[]\" лучше смотреть как на круглые скобки \n",
    "# 0=A, 1=B, 2=C, 3=N\n",
    "\n",
    " \n",
    "#вроде все еще  сравнимо с лекцией "
   ]
  },
  {
   "cell_type": "markdown",
   "metadata": {},
   "source": [
    "## тест 2"
   ]
  },
  {
   "cell_type": "code",
   "execution_count": 8,
   "metadata": {},
   "outputs": [
    {
     "name": "stdout",
     "output_type": "stream",
     "text": [
      "[[[5, 4.5], [[[[[4, 2.5]], 1.5], [[[1, 3.0], [[[0, 2.0], [2, 2.0]], 1.0]], 1.0]], 0.5]]]\n"
     ]
    }
   ],
   "source": [
    "M = np.array([[np.nan, 5, 4, 7, 6, 8], [np.nan, np.nan, 7, 10, 9, 11], [np.nan, np.nan, np.nan, 7, 6, 8], [np.nan, np.nan, np.nan, np.nan, 5, 9],\n",
    "              [np.nan, np.nan, np.nan, np.nan, np.nan, 8],  [np.nan, np.nan, np.nan, np.nan, np.nan, np.nan]])\n",
    "result = WPGMA(M)\n",
    "print(result)"
   ]
  },
  {
   "cell_type": "code",
   "execution_count": null,
   "metadata": {},
   "outputs": [],
   "source": []
  },
  {
   "cell_type": "markdown",
   "metadata": {},
   "source": [
    "Neighbor joining, NJ"
   ]
  },
  {
   "cell_type": "code",
   "execution_count": 16,
   "metadata": {},
   "outputs": [],
   "source": [
    "def dist_NJ(M):\n",
    "    N = M.copy()\n",
    "    for i in range(M.shape[0]):\n",
    "        for j in range(i+1, M.shape[0]):\n",
    "            summ_a = 0\n",
    "            summ_b = 0\n",
    "            for k in range(M.shape[0]):\n",
    "                if k!= i and k != j:\n",
    "                    summ_a += dist(i,k,M)\n",
    "                    summ_b += dist(j,k,M)\n",
    "            N[i,j] = dist(i,j,M) - (summ_a + summ_b)/(M.shape[0] - 2)\n",
    "    return(N)\n",
    "def new_ind(ind,index,M):\n",
    "    summ_a = 0\n",
    "    summ_b = 0\n",
    "    for k in range(M.shape[0]):\n",
    "            if k!= ind[0] and k != ind[1]:\n",
    "                summ_a += dist(ind[0],k,M)\n",
    "                summ_b += dist(ind[1],k,M)\n",
    "    da = dist(ind[0],ind[1],M) + (summ_a - summ_b)/(M.shape[0] - 2)\n",
    "    da *= 0.5\n",
    "    db = dist(ind[0],ind[1],M) + (-summ_a + summ_b)/(M.shape[0] - 2)\n",
    "    db *= 0.5\n",
    "    a = index.pop(ind[0])\n",
    "    b = index.pop(ind[1] - 1)\n",
    "    index.append([[a,da],[b,db]])\n",
    "    return(index)\n",
    "def NJ(M):\n",
    "    index = create_ind(M.shape[0])\n",
    "    step = 1\n",
    "    while M.shape[0] > 2:\n",
    "        ind = np.unravel_index(np.nanargmin(M), M.shape)\n",
    "        D = dist_NJ(M)\n",
    "        nxt = 0\n",
    "        ind = np.unravel_index(np.nanargmin(D), D.shape)   \n",
    "        N = np.delete(M, [ind[0],ind[1]], 0)\n",
    "        N = np.delete(N, [ind[0],ind[1]], 1)\n",
    "        a = np.zeros(N.shape[0]+1)\n",
    "        a.fill(np.nan)\n",
    "        b = np.zeros((N.shape[0],1))\n",
    "        N = np.hstack((N,b))\n",
    "        N = np.vstack((N,a))\n",
    "        nxt = 0\n",
    "        for i in range(M.shape[0]):\n",
    "            if i == ind[0] or i == ind[1]:\n",
    "                continue\n",
    "            N[nxt, N.shape[0]-1] = (dist(ind[0], i, M) + dist(ind[1], i, M) - dist(ind[0], ind[1], M))/2\n",
    "            nxt+=1\n",
    "        index = new_ind(ind,index,M)\n",
    "\n",
    "        M = N\n",
    "        step+=1\n",
    "    return(index)"
   ]
  },
  {
   "cell_type": "markdown",
   "metadata": {},
   "source": [
    "## тест 1 "
   ]
  },
  {
   "cell_type": "code",
   "execution_count": 17,
   "metadata": {},
   "outputs": [
    {
     "name": "stdout",
     "output_type": "stream",
     "text": [
      "[0, [[1, 5.5], [[[2, 3.5], [3, 0.5]], 0.5]]]\n"
     ]
    }
   ],
   "source": [
    "M = np.array([[np.nan, 16, 16, 10],\n",
    "              [np.nan, np.nan, 8, 8],\n",
    "              [np.nan, np.nan, np.nan, 4],\n",
    "              [np.nan, np.nan, np.nan, np.nan]])\n",
    "result = NJ(M)\n",
    "print(result)\n",
    "\n",
    "\n",
    "# Неукорененное "
   ]
  },
  {
   "cell_type": "markdown",
   "metadata": {},
   "source": [
    "## тест 2"
   ]
  },
  {
   "cell_type": "code",
   "execution_count": 19,
   "metadata": {},
   "outputs": [
    {
     "name": "stdout",
     "output_type": "stream",
     "text": [
      "[5, [[[[2, 2.0], [[[0, 1.0], [1, 4.0]], 1.0]], 1.0], [[[3, 3.0], [4, 2.0]], 1.0]]]\n"
     ]
    }
   ],
   "source": [
    "M = np.array([[np.nan, 5, 4, 7, 6, 8], [np.nan, np.nan, 7, 10, 9, 11], [np.nan, np.nan, np.nan, 7, 6, 8], [np.nan, np.nan, np.nan, np.nan, 5, 9],\n",
    "              [np.nan, np.nan, np.nan, np.nan, np.nan, 8],  [np.nan, np.nan, np.nan, np.nan, np.nan, np.nan]])\n",
    "result = NJ(M)\n",
    "print(result)"
   ]
  },
  {
   "cell_type": "code",
   "execution_count": null,
   "metadata": {},
   "outputs": [],
   "source": []
  }
 ],
 "metadata": {
  "kernelspec": {
   "display_name": "Python 3",
   "language": "python",
   "name": "python3"
  },
  "language_info": {
   "codemirror_mode": {
    "name": "ipython",
    "version": 3
   },
   "file_extension": ".py",
   "mimetype": "text/x-python",
   "name": "python",
   "nbconvert_exporter": "python",
   "pygments_lexer": "ipython3",
   "version": "3.7.3"
  }
 },
 "nbformat": 4,
 "nbformat_minor": 2
}
