{
 "cells": [
  {
   "cell_type": "code",
   "execution_count": 1,
   "metadata": {},
   "outputs": [],
   "source": [
    "import numpy as np\n"
   ]
  },
  {
   "cell_type": "markdown",
   "metadata": {},
   "source": [
    "## Витерби"
   ]
  },
  {
   "cell_type": "code",
   "execution_count": null,
   "metadata": {},
   "outputs": [],
   "source": [
    " "
   ]
  },
  {
   "cell_type": "code",
   "execution_count": 2,
   "metadata": {},
   "outputs": [],
   "source": [
    "def viterbi(p0, x, a, e):\n",
    "    L = len(x)\n",
    "    V = np.zeros((2, L))\n",
    "    ptr = np.zeros((L, 2))\n",
    "    \n",
    "    V[ :, 0] = np.log(p0) + np.log(e[:, x[0]]) \n",
    " \n",
    "    for i in range(1, L):\n",
    "        for l in range(2):\n",
    "            V[l, i] = np.log(e[l, x[i]]) + np.max(V[:, i - 1] + np.log(a[:, l]))\n",
    "            ptr[i, l] = np.argmax(V[:, i - 1] + np.log(a[:, l]))\n",
    "    \n",
    "    seq = np.zeros(L, dtype=int)\n",
    " \n",
    "    seq[-1] = np.argmax(V[:, -1] + np.log(a[:, -1]))\n",
    "   \n",
    "\n",
    "\n",
    "#идем назад \n",
    "    for i in range(L - 1, 0, -1):\n",
    "        seq[i - 1] = ptr[i, seq[i]]\n",
    "    return seq"
   ]
  },
  {
   "cell_type": "markdown",
   "metadata": {},
   "source": [
    "## Тест 1 "
   ]
  },
  {
   "cell_type": "code",
   "execution_count": 3,
   "metadata": {},
   "outputs": [
    {
     "data": {
      "text/plain": [
       "array([0, 0, 0, 0, 0, 0, 0, 0, 1, 1, 1, 1, 1, 1, 1, 1, 1, 1, 0, 0, 0, 0,\n",
       "       0, 0, 0, 0])"
      ]
     },
     "execution_count": 3,
     "metadata": {},
     "output_type": "execute_result"
    }
   ],
   "source": [
    "seq1 = \"ОРОРОРООРРРРРРРРРРОООООООО\"\n",
    "#seq1 = \"ОРОРОРOOOOOO\"\n",
    "x = [ ]\n",
    "for i in range(len(seq1)):\n",
    "    if(seq1[i]==\"О\"):\n",
    "        x.append(0)\n",
    "    else:\n",
    "        x.append(1)\n",
    "\n",
    "a = np.array([[0.8, 0.2], [0.2, 0.8]])\n",
    "b = np.array([[0.5, 0.5], [0.1, 0.9 ]])\n",
    "p0 = (0.5, 0.5)\n",
    "\n",
    "vit = viterbi(p0, x, a, b)\n",
    "vit "
   ]
  },
  {
   "cell_type": "markdown",
   "metadata": {},
   "source": [
    "## Тест 2"
   ]
  },
  {
   "cell_type": "code",
   "execution_count": 4,
   "metadata": {},
   "outputs": [
    {
     "data": {
      "text/plain": [
       "array([1, 0, 1, 0, 1, 0, 1, 1, 0, 0, 0, 0, 0, 0, 0, 0, 0, 0, 1, 1, 1, 1,\n",
       "       1, 1, 1, 1])"
      ]
     },
     "execution_count": 4,
     "metadata": {},
     "output_type": "execute_result"
    }
   ],
   "source": [
    "seq1 = \"ОРОРОРООРРРРРРРРРРОООООООО\"\n",
    "\n",
    "x = [ ]\n",
    "for i in range(len(seq1)):\n",
    "    if(seq1[i]==\"О\"):\n",
    "        x.append(0)\n",
    "    else:\n",
    "        x.append(1)\n",
    "\n",
    "a = np.array([[0.5, 0.5], [0.5, 0.5]])\n",
    "b = np.array([[0.5, 0.5], [0.51, 0.49 ]])\n",
    "p0 = (0.5, 0.5)\n",
    "\n",
    "vit = viterbi(p0, x, a, b)\n",
    "vit "
   ]
  },
  {
   "cell_type": "markdown",
   "metadata": {},
   "source": [
    "## FB "
   ]
  },
  {
   "cell_type": "code",
   "execution_count": 6,
   "metadata": {},
   "outputs": [],
   "source": [
    "def forward(p0, x, a, e):\n",
    "    L = len(x)\n",
    "    f = np.zeros((2, L))\n",
    " \n",
    "    f[:, 0] = np.log(p0) + np.log(e[:, x[0]])\n",
    " \n",
    "    for i in range(1, L):\n",
    "        for l in range(2):\n",
    "            log_term1 = f[0, i - 1] + np.log(a[0, l])\n",
    "            log_term2 = np.log(1 + np.e ** (f[1, i - 1] + np.log(a[1, l]) - log_term1))\n",
    "            log_sum = log_term1 + log_term2\n",
    "            f[ l, i] = np.log(e[ l, x[i]]) + log_sum\n",
    " \n",
    "    f_probs = f[0, -1] + np.log(1 + np.e ** (f[1, -1] - f[0, -1]))\n",
    "    return f, f_probs\n",
    "\n",
    "def backward(p0, x, a, e):\n",
    "    L = len(x)\n",
    "    b = np.zeros((2, L))\n",
    " \n",
    "    b[:, -1] = 1\n",
    " \n",
    "    for i in range(L - 2, -1, -1):\n",
    "        for k in range(2):\n",
    "            log_term1 = b[0, i + 1] + np.log(a[k, 0]) + np.log(e[0, x[i + 1]])\n",
    "            log_term2 = np.log(1 + np.e ** (b[1, i + 1] + np.log(a[k, 1]) + np.log(e[1, x[i + 1]]) - log_term1))\n",
    "            b[k, i] = log_term1 + log_term2\n",
    " \n",
    "    log_term1 = b[0, 1] + np.log(p0[0]) + np.log(e[0, x[1]])\n",
    "    log_term2 = np.log(1 + np.e ** (b[1, 1] + np.log(p0[1]) + np.log(e[1, x[1]]) - log_term1))\n",
    "    b_probs = log_term1 + log_term2\n",
    "    return b, b_probs"
   ]
  },
  {
   "cell_type": "code",
   "execution_count": 8,
   "metadata": {},
   "outputs": [
    {
     "data": {
      "text/plain": [
       "array([[0.8760278 , 0.78077115, 0.89514123, 0.7943244 , 0.90385713,\n",
       "        0.81035542, 0.92805827, 0.87646997, 0.46574556, 0.27841736,\n",
       "        0.19348522, 0.15608929, 0.14207455, 0.14238852, 0.157234  ,\n",
       "        0.19620007, 0.28445594, 0.47900836, 0.90552377, 0.9830974 ,\n",
       "        0.99720021, 0.99973054, 1.        , 0.99900023, 0.99305206,\n",
       "        0.96026625],\n",
       "       [0.14312856, 0.23838521, 0.12401513, 0.22483196, 0.11529922,\n",
       "        0.20880093, 0.09109809, 0.14268639, 0.5534108 , 0.740739  ,\n",
       "        0.82567113, 0.86306707, 0.87708181, 0.87676784, 0.86192236,\n",
       "        0.82295628, 0.73470041, 0.540148  , 0.11363259, 0.03605896,\n",
       "        0.02195615, 0.01942582, 0.01915635, 0.02015613, 0.02610429,\n",
       "        0.0588901 ]])"
      ]
     },
     "execution_count": 8,
     "metadata": {},
     "output_type": "execute_result"
    }
   ],
   "source": [
    "a = np.array([[0.8, 0.2], [0.2, 0.8]])\n",
    "b = np.array([[0.5, 0.5], [0.1, 0.9 ]])\n",
    "p0 = (0.5, 0.5)\n",
    "\n",
    "\n",
    "f, f_probs = forward(p0, x, a, b)\n",
    "b, b_probs = backward(p0, x, a, b)\n",
    "\n",
    "#Вероятность состояния \n",
    "post_probs = np.e ** f * np.e ** b / np.e ** f_probs\n",
    "post_probs = post_probs/np.max(post_probs)\n",
    "post_probs"
   ]
  },
  {
   "cell_type": "code",
   "execution_count": null,
   "metadata": {},
   "outputs": [],
   "source": []
  },
  {
   "cell_type": "code",
   "execution_count": null,
   "metadata": {},
   "outputs": [],
   "source": []
  }
 ],
 "metadata": {
  "kernelspec": {
   "display_name": "Python 3",
   "language": "python",
   "name": "python3"
  },
  "language_info": {
   "codemirror_mode": {
    "name": "ipython",
    "version": 3
   },
   "file_extension": ".py",
   "mimetype": "text/x-python",
   "name": "python",
   "nbconvert_exporter": "python",
   "pygments_lexer": "ipython3",
   "version": "3.7.3"
  }
 },
 "nbformat": 4,
 "nbformat_minor": 2
}
