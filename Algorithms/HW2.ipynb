{
 "cells": [
  {
   "cell_type": "markdown",
   "metadata": {},
   "source": [
    "# Задание1 \n",
    "\n",
    "Использую свой подправленный код из первого домашнего задания: \n"
   ]
  },
  {
   "cell_type": "code",
   "execution_count": 1,
   "metadata": {},
   "outputs": [],
   "source": [
    "import numpy as np\n"
   ]
  },
  {
   "cell_type": "code",
   "execution_count": 16,
   "metadata": {},
   "outputs": [],
   "source": [
    "\n",
    "index = {\"A\" : 1, \"T\": 2,  \"G\":3, \"C\":4 }\n",
    "\n",
    "def n_w_matrix(seq1, seq2, matrix):\n",
    "    matrix_weights = np.zeros((len(seq1)+1, len(seq2)+1))\n",
    " \n",
    "    for i in range( 1,matrix_weights.shape[0]):\n",
    "        for j in range(1 ,matrix_weights.shape[1]):\n",
    "      \n",
    "            s1 = matrix_weights[i-1,j-1]+matrix[index[seq1[i-1]],index[seq2[j-1]]]\n",
    "            s2 = matrix_weights[i][j-1]+matrix[index[seq1[i-1]],0]\n",
    "            s3 = matrix_weights[i-1][j]+matrix[0, index[seq2[j-1]]]\n",
    "            matrix_weights[i][j] = max( 0,s1,s2,s3)\n",
    "            \n",
    "    #print(matrix_weights)\n",
    "    maxi,maxj = np.unravel_index(matrix_weights.argmax(), matrix_weights.shape) # для старта с максимума \n",
    "    #print(i, j)\n",
    "    max_score = np.amax(matrix_weights) \n",
    "    \n",
    "    seq_alignment1 = \"\"\n",
    "    seq_alignment2 = \"\"\n",
    "    ind_i = len(seq1)\n",
    "    jnd_j = len(seq2)\n",
    "    i = maxi \n",
    "    j = maxj\n",
    "    \n",
    "        \n",
    "    while(i>0 or j>0):\n",
    "        if(matrix_weights[i][j]==0):\n",
    "            break # завершаем при нуле \n",
    " \n",
    "        if (  (i>0 and j>0) and  matrix_weights[i][j] == matrix_weights[i-1][j-1]+ matrix[index[seq1[i-1]], index[seq2[j-1]]]):\n",
    "            seq_alignment1  = seq1[i-1]+seq_alignment1 \n",
    "            seq_alignment2  = seq2[j-1]+seq_alignment2 \n",
    "\n",
    "            i-=1\n",
    "            j-=1\n",
    "    \n",
    "        elif ( i>0 and matrix_weights[i][j] == matrix_weights[i-1][j]+ matrix[index[seq1[i-1]],0]):\n",
    "        \n",
    "            seq_alignment1  = seq1[i-1]+seq_alignment1 \n",
    "            seq_alignment2  = \"-\"+seq_alignment2   \n",
    "            i-=1\n",
    "        else:\n",
    "        \n",
    "            seq_alignment1  = \"-\"+seq_alignment1 \n",
    "            seq_alignment2  = seq2[j-1]+seq_alignment2         \n",
    "            j=j-1\n",
    "      # эта часть кода просто для удобного вывода выравнивания \n",
    "    if(i>=j):\n",
    "        for e in range(i-1, -1, -1):\n",
    "            seq_alignment1  = seq1[e].lower()+seq_alignment1      \n",
    "        for e in range(j-1, -1, -1):\n",
    "            seq_alignment2  = seq2[e].lower()+seq_alignment2    \n",
    "        for e in range(0,i-j):\n",
    "            seq_alignment2  = \" \"+seq_alignment2 \n",
    "            \n",
    "    else: \n",
    "        for e in range(j-1, -1, -1):\n",
    "            seq_alignment2  = seq2[e].lower()+seq_alignment2    \n",
    "        for e in range(i-1, -1, -1):\n",
    "            seq_alignment1  = seq1[e].lower()+seq_alignment1    \n",
    "        for e in range(0,j-i):\n",
    "            seq_alignment1  = \" \"+seq_alignment1 \n",
    "                \n",
    "    for e in range(maxi+1, len(seq1)+1):\n",
    "        seq_alignment1 = seq_alignment1 + seq1[e-1].lower()\n",
    "    for e in range(maxj+1, len(seq2)+1):\n",
    "        seq_alignment2 = seq_alignment2 + seq2[e-1].lower()    \n",
    "    print(seq_alignment1)\n",
    "    print(seq_alignment2)\n",
    "    \n",
    "\n",
    "    return seq_alignment1, seq_alignment2"
   ]
  },
  {
   "cell_type": "markdown",
   "metadata": {},
   "source": [
    "Короткий пример: "
   ]
  },
  {
   "cell_type": "code",
   "execution_count": 17,
   "metadata": {},
   "outputs": [
    {
     "name": "stdout",
     "output_type": "stream",
     "text": [
      " gATtaca\n",
      "gcATgca\n"
     ]
    },
    {
     "data": {
      "text/plain": [
       "(' gATtaca', 'gcATgca')"
      ]
     },
     "execution_count": 17,
     "metadata": {},
     "output_type": "execute_result"
    }
   ],
   "source": [
    "seq1 = \"GATTACA\"\n",
    "seq2 = \"GCATGCA\"\n",
    "\n",
    "matrix = np.array([[-1,-1,-1,-1,-1],[-1,1,-1,-1,-1],[-1,-1,1,-1,-1],[-1,-1,-1,1,-1],[-1,-1,-1,-1,1] ])\n",
    "n_w_matrix(seq1, seq2, matrix)"
   ]
  },
  {
   "cell_type": "markdown",
   "metadata": {},
   "source": [
    "Пример из прошлого домашнего задания, с той жа матрицей.\n",
    "ДЗ1: https://github.com/kamilla0503/Bioinformatics_institute/blob/master/Algorithms/HW1_Task2.ipynb"
   ]
  },
  {
   "cell_type": "code",
   "execution_count": 18,
   "metadata": {},
   "outputs": [
    {
     "name": "stdout",
     "output_type": "stream",
     "text": [
      "      GATTACAACCG--T-ACACctagccgac\n",
      "gattgcGATTACAACCGATTGATAC\n"
     ]
    },
    {
     "data": {
      "text/plain": [
       "('      GATTACAACCG--T-ACACctagccgac', 'gattgcGATTACAACCGATTGATAC')"
      ]
     },
     "execution_count": 18,
     "metadata": {},
     "output_type": "execute_result"
    }
   ],
   "source": [
    "seq1 = \"GATTACAACCGTACACCTAGCCGAC\"\n",
    "seq2 = \"GATTGCGATTACAACCGATTGATAC\"\n",
    "\n",
    "matrix = np.array([[-1,-2,-1,-1,-1],[-2,2,-2,-1,-1],[-1,-2,1,-1,-1],[-1,-1,-1,1,-1],[-1,-1,-1,-1,2] ])\n",
    "n_w_matrix(seq1, seq2, matrix)"
   ]
  },
  {
   "cell_type": "markdown",
   "metadata": {},
   "source": [
    "Результат глобального выравнивания: \n",
    "\n",
    "GATTACAACCGTAC-ACCTAGCCG--AC\n",
    "\n",
    "GATTGCGAT--TACAACCGAT-TGATAC.\n",
    "\n",
    "Видно, что при локальном выравнивании есть участок, на котором много совпадений. \n",
    "При глобальном выравнивании такого длинного участка совпадений нет. \n"
   ]
  },
  {
   "cell_type": "markdown",
   "metadata": {},
   "source": [
    "# Задание 2"
   ]
  },
  {
   "cell_type": "code",
   "execution_count": 34,
   "metadata": {},
   "outputs": [],
   "source": [
    "\n",
    "index = {\"A\" : 1, \"T\": 2,  \"G\":3, \"C\":4 }\n",
    "\n",
    "def s_w_matrix_gaps(seq1, seq2, matrix, afgap ):\n",
    "    matrix_weights = np.zeros((len(seq1)+1, len(seq2)+1))\n",
    "    \n",
    "    sum_gaps = np.zeros((len(seq1)+1, len(seq2)+1))\n",
    " \n",
    "    for i in range( 1,matrix_weights.shape[0]):\n",
    "        for j in range(1 ,matrix_weights.shape[1]):\n",
    "            \n",
    "      \n",
    "            s1 = matrix_weights[i-1,j-1]+matrix[index[seq1[i-1]],index[seq2[j-1]]]\n",
    "            s2 = matrix_weights[i][j-1]+matrix[index[seq1[i-1]],0]+afgap*max(0, sum_gaps[i][j-1]-1)\n",
    "            s3 = matrix_weights[i-1][j]+matrix[0, index[seq2[j-1]]]+afgap*max(0, sum_gaps[i-1][j]-1)\n",
    "            matrix_weights[i][j] = max( 0,s1,s2,s3)\n",
    "            if(matrix_weights[i][j] ==s2 ):\n",
    "                sum_gaps[i][j] = sum_gaps[i][j-1]+1\n",
    "            if(matrix_weights[i][j] ==s3 ):\n",
    "                sum_gaps[i][j] = sum_gaps[i-1][j]+1\n",
    "            \n",
    "    print(matrix_weights)\n",
    "    #print(sum_gaps)\n",
    "    maxi,maxj = np.unravel_index(matrix_weights.argmax(), matrix_weights.shape) # для старта с максимума \n",
    "    #print(i, j)\n",
    "    max_score = np.amax(matrix_weights) \n",
    "    \n",
    "    seq_alignment1 = \"\"\n",
    "    seq_alignment2 = \"\"\n",
    "    ind_i = len(seq1)\n",
    "    jnd_j = len(seq2)\n",
    "    i = maxi \n",
    "    j = maxj\n",
    "    \n",
    "        \n",
    "    while(i>0 or j>0):\n",
    "        if(matrix_weights[i][j]==0):\n",
    "            break # завершаем при нуле \n",
    " \n",
    "        if (  (i>0 and j>0) and  matrix_weights[i][j] == matrix_weights[i-1][j-1]+ matrix[index[seq1[i-1]], index[seq2[j-1]]]):\n",
    "            seq_alignment1  = seq1[i-1]+seq_alignment1 \n",
    "            seq_alignment2  = seq2[j-1]+seq_alignment2 \n",
    "\n",
    "            i-=1\n",
    "            j-=1\n",
    "    \n",
    "        elif ( i>0 and matrix_weights[i][j] == matrix_weights[i-1][j]+ matrix[index[seq1[i-1]],0]+afgap*max(0, sum_gaps[i-1][j]-1)):\n",
    "        \n",
    "            seq_alignment1  = seq1[i-1]+seq_alignment1 \n",
    "            seq_alignment2  = \"-\"+seq_alignment2   \n",
    "            i-=1\n",
    "        else:\n",
    "        \n",
    "            seq_alignment1  = \"-\"+seq_alignment1 \n",
    "            seq_alignment2  = seq2[j-1]+seq_alignment2         \n",
    "            j=j-1\n",
    "      # эта часть кода просто для удобного вывода выравнивания \n",
    "    if(i>=j):\n",
    "        for e in range(i-1, -1, -1):\n",
    "            seq_alignment1  = seq1[e].lower()+seq_alignment1      \n",
    "        for e in range(j-1, -1, -1):\n",
    "            seq_alignment2  = seq2[e].lower()+seq_alignment2    \n",
    "        for e in range(0,i-j):\n",
    "            seq_alignment2  = \" \"+seq_alignment2 \n",
    "            \n",
    "    else: \n",
    "        for e in range(j-1, -1, -1):\n",
    "            seq_alignment2  = seq2[e].lower()+seq_alignment2    \n",
    "        for e in range(i-1, -1, -1):\n",
    "            seq_alignment1  = seq1[e].lower()+seq_alignment1    \n",
    "        for e in range(0,j-i):\n",
    "            seq_alignment1  = \" \"+seq_alignment1 \n",
    "                \n",
    "    for e in range(maxi+1, len(seq1)):\n",
    "        seq_alignment1 = seq_alignment1 + seq1[e].lower()\n",
    "    for e in range(maxj+1, len(seq2)):\n",
    "        seq_alignment2 = seq_alignment2 + seq2[e].lower()    \n",
    "    print(seq_alignment1)\n",
    "    print(seq_alignment2)\n",
    "    \n",
    "\n",
    "    return seq_alignment1, seq_alignment2"
   ]
  },
  {
   "cell_type": "markdown",
   "metadata": {},
   "source": [
    "пример из википедии: "
   ]
  },
  {
   "cell_type": "code",
   "execution_count": 35,
   "metadata": {},
   "outputs": [
    {
     "name": "stdout",
     "output_type": "stream",
     "text": [
      "[[ 0.  0.  0.  0.  0.  0.  0.  0.  0.]\n",
      " [ 0.  0.  3.  1.  0.  0.  0.  3.  3.]\n",
      " [ 0.  0.  3.  1.  0.  0.  0.  3.  6.]\n",
      " [ 0.  3.  1.  6.  4.  2.  0.  1.  4.]\n",
      " [ 0.  3.  1.  4.  9.  7.  5.  1.  2.]\n",
      " [ 0.  1.  6.  4.  7.  6.  4.  8.  6.]\n",
      " [ 0.  0.  4.  3.  5. 10.  8.  6.  5.]\n",
      " [ 0.  0.  2.  1.  1.  8. 13. 11.  9.]\n",
      " [ 0.  3.  1.  5.  4.  6. 11. 10.  8.]\n",
      " [ 0.  1.  0.  3.  2.  7.  9.  8.  7.]]\n",
      "gGTTGACa\n",
      "tGTT-ACg\n"
     ]
    },
    {
     "data": {
      "text/plain": [
       "('gGTTGACa', 'tGTT-ACg')"
      ]
     },
     "execution_count": 35,
     "metadata": {},
     "output_type": "execute_result"
    }
   ],
   "source": [
    "seq2 = \"TGTTACGG\"\n",
    "seq1 = \"GGTTGACTA\"\n",
    "\n",
    "matrix = np.array([[-2,-2,-2,-2,-2],[-2,3,-3,-3,-3],[-2,-3,3,-3,-3],[-2,-3,-3,3,-3],[-2,-3,-3,-3,3] ])\n",
    "s_w_matrix_gaps(seq1, seq2, matrix, -2)"
   ]
  },
  {
   "cell_type": "markdown",
   "metadata": {},
   "source": [
    "Тест 1"
   ]
  },
  {
   "cell_type": "code",
   "execution_count": 41,
   "metadata": {},
   "outputs": [
    {
     "name": "stdout",
     "output_type": "stream",
     "text": [
      "[[ 0.  0.  0. ...  0.  0.  0.]\n",
      " [ 0.  0.  0. ...  1.  1.  1.]\n",
      " [ 0.  0.  0. ...  2.  2.  2.]\n",
      " ...\n",
      " [ 0.  1.  2. ... 22. 22. 22.]\n",
      " [ 0.  1.  2. ... 22. 22. 22.]\n",
      " [ 0.  1.  2. ... 22. 22. 23.]]\n",
      "   T----CC--CAGTTATGTCAGGGGACACG--A-GCATGCAGA-GAC\n",
      "aatTGCCGCCGTC-GTT-T-TCA---G-CA-GTTATG--T-CAGAT--C\n"
     ]
    },
    {
     "data": {
      "text/plain": [
       "('   T----CC--CAGTTATGTCAGGGGACACG--A-GCATGCAGA-GAC',\n",
       " 'aatTGCCGCCGTC-GTT-T-TCA---G-CA-GTTATG--T-CAGAT--C')"
      ]
     },
     "execution_count": 41,
     "metadata": {},
     "output_type": "execute_result"
    }
   ],
   "source": [
    "seq1=\"TCCCAGTTATGTCAGGGGACACGAGCATGCAGAGAC\"\n",
    "seq2=\"AATTGCCGCCGTCGTTTTCAGCAGTTATGTCAGATC\"\n",
    "\n",
    "\n",
    "\n",
    "matrix = np.zeros((5,5))\n",
    "for i in range(1,5):\n",
    "    for j in range(1,5):\n",
    "        if(i==j):\n",
    "            matrix[i][j]=1\n",
    "        else:\n",
    "            matrix[i][j]=-1\n",
    "s_w_matrix_gaps(seq1, seq2, matrix, 0)"
   ]
  },
  {
   "cell_type": "markdown",
   "metadata": {},
   "source": [
    "Тест 2"
   ]
  },
  {
   "cell_type": "code",
   "execution_count": 42,
   "metadata": {},
   "outputs": [
    {
     "name": "stdout",
     "output_type": "stream",
     "text": [
      "[[0. 0. 0. ... 0. 0. 0.]\n",
      " [0. 0. 0. ... 0. 1. 0.]\n",
      " [0. 0. 0. ... 0. 0. 2.]\n",
      " ...\n",
      " [0. 0. 0. ... 0. 3. 0.]\n",
      " [0. 1. 1. ... 3. 0. 2.]\n",
      " [0. 0. 0. ... 0. 2. 1.]]\n",
      "                  tccCAGTTATGTCAGggacacgagcatgcagagac\n",
      "aattgccgccgtcgttttcagCAGTTATGTCAGtc\n"
     ]
    },
    {
     "data": {
      "text/plain": [
       "('                  tccCAGTTATGTCAGggacacgagcatgcagagac',\n",
       " 'aattgccgccgtcgttttcagCAGTTATGTCAGtc')"
      ]
     },
     "execution_count": 42,
     "metadata": {},
     "output_type": "execute_result"
    }
   ],
   "source": [
    "matrix = np.zeros((5,5))\n",
    "for i in range(0,5):\n",
    "    for j in range(0,5):\n",
    "        if(i==0 or j==0):\n",
    "            matrix[i][j]=-100\n",
    "        elif (i==j):\n",
    "            matrix[i][j]=1\n",
    "        else:\n",
    "            matrix[i][j]=-1\n",
    "s_w_matrix_gaps(seq1, seq2, matrix, -0.01)"
   ]
  },
  {
   "cell_type": "markdown",
   "metadata": {},
   "source": [
    "Во втором тесте нет гэпов - они очень дорогие. "
   ]
  },
  {
   "cell_type": "markdown",
   "metadata": {},
   "source": [
    "Тест 3 "
   ]
  },
  {
   "cell_type": "code",
   "execution_count": 45,
   "metadata": {},
   "outputs": [
    {
     "name": "stdout",
     "output_type": "stream",
     "text": [
      "[[ 0.   0.   0.  ...  0.   0.   0. ]\n",
      " [ 0.   0.5  1.  ...  1.   1.2  1.1]\n",
      " [ 0.   1.   1.2 ...  4.3  4.2  3.8]\n",
      " ...\n",
      " [ 0.   1.5  2.  ... 29.9 29.8 29.4]\n",
      " [ 0.   2.   2.5 ... 30.7 31.2 31.7]\n",
      " [ 0.   2.2  3.  ... 31.2 31.7 32.2]]\n",
      " T----C--C---CAGTTATGTCAGGGGACACG--A-GCATGCAGAGA-C\n",
      "a-ATTGCCGCCGTC-GTT-T-TCAG----CA-GTTATG--T-C--AGATC\n"
     ]
    },
    {
     "data": {
      "text/plain": [
       "(' T----C--C---CAGTTATGTCAGGGGACACG--A-GCATGCAGAGA-C',\n",
       " 'a-ATTGCCGCCGTC-GTT-T-TCAG----CA-GTTATG--T-C--AGATC')"
      ]
     },
     "execution_count": 45,
     "metadata": {},
     "output_type": "execute_result"
    }
   ],
   "source": [
    "matrix = np.zeros((5,5))\n",
    "for i in range(0,5):\n",
    "    for j in range(0,5):\n",
    "        if(i==0 or j==0):\n",
    "            matrix[i][j]=0.5\n",
    "        elif (i==j):\n",
    "            matrix[i][j]=1\n",
    "        else:\n",
    "            matrix[i][j]=-1\n",
    "s_w_matrix_gaps(seq1, seq2, matrix, -0.3)"
   ]
  },
  {
   "cell_type": "markdown",
   "metadata": {},
   "source": [
    "В третьем тесте больше гэпов, чем в первом. Наверное, этому способствовало вознаграждение за открытие гэпа. "
   ]
  },
  {
   "cell_type": "markdown",
   "metadata": {},
   "source": [
    "# Задание 3 "
   ]
  },
  {
   "cell_type": "code",
   "execution_count": 46,
   "metadata": {},
   "outputs": [],
   "source": [
    "import random "
   ]
  },
  {
   "cell_type": "code",
   "execution_count": 50,
   "metadata": {},
   "outputs": [
    {
     "name": "stdout",
     "output_type": "stream",
     "text": [
      "100:\n",
      "GTACATGCGTCCGATGACAACGGACTTCATTTAAGACCACCGAGCAATCAGGACGGTTGTCTCTACTCCAATGTCCATGAGCCTATGGGTACCGCCCCCC\n"
     ]
    }
   ],
   "source": [
    "nucls = [\"A\", \"T\", \"G\", \"C\"]\n",
    "\n",
    "s_100 = \"\"\n",
    "s_1000 = \"\"\n",
    "s_100000 = \"\"\n",
    "\n",
    "for i in range(100):\n",
    "    s_100 = s_100 + random.choice(nucls)\n",
    "    \n",
    "    \n",
    "for i in range(1000):\n",
    "    s_1000 = s_1000 + random.choice(nucls)\n",
    "    \n",
    "\n",
    "for i in range(100000):\n",
    "    s_100000 = s_100000 + random.choice(nucls)\n",
    "    \n",
    "print(\"100:\")\n",
    "print(s_100)\n",
    "    \n",
    "with open('seq100.txt', 'w') as the_file:\n",
    "    the_file.write(s_100)\n",
    "    \n",
    "with open('seq1000.txt', 'w') as the_file:\n",
    "    the_file.write(s_1000)\n",
    "    \n",
    "with open('seq10000.txt', 'w') as the_file:\n",
    "    the_file.write(s_100000)"
   ]
  },
  {
   "cell_type": "code",
   "execution_count": null,
   "metadata": {},
   "outputs": [],
   "source": []
  },
  {
   "cell_type": "code",
   "execution_count": 54,
   "metadata": {},
   "outputs": [],
   "source": [
    "\n",
    "def gotoFunction(part, alf):\n",
    "    goto = {}\n",
    "    output = {}\n",
    "    newstate = 0 \n",
    "    for i in range(len(part)):\n",
    "        state = 0\n",
    "        j = 0\n",
    "        while (state, part[i][j]) in goto.keys():\n",
    "            state = goto[(state, part[i][j])]\n",
    "            j += 1\n",
    "        for p in range(j, len(part[i])):\n",
    "            newstate = newstate+1 \n",
    "            goto[(state, part[i][p])] = newstate\n",
    "            state = newstate       \n",
    "        output[state] = [part[i]]\n",
    "\n",
    "    for a in alf:\n",
    "        if (0, a) not in goto.keys():\n",
    "            goto[(0, a)] = 0\n",
    "            \n",
    "    return goto, output\n",
    "\n",
    "def failureFunction(part, symbols, goto, output): \n",
    "    failure = {}\n",
    "    queue = []\n",
    "\n",
    "    for a in symbols:\n",
    "        if goto[(0, a)] != 0:\n",
    "            s = goto[(0, a)]\n",
    "            queue.append(s)\n",
    "            failure[s] = 0 \n",
    "\n",
    "    while queue != []:\n",
    "        r = queue[0] \n",
    "        del queue[0] \n",
    "\n",
    "        for a in symbols:\n",
    "            if (r, a) in goto.keys():\n",
    "                s = goto[(r, a)]\n",
    "                queue.append(s)\n",
    "                state = failure[r] \n",
    "\n",
    "                while (state, a) not in goto.keys():\n",
    "                    state = failure[state]\n",
    "\n",
    "\n",
    "                failure[s] = goto[(state, a)]\n",
    "\n",
    "                if failure[s] in output.keys():\n",
    "                    output[s].extend(output[failure[s]])\n",
    "                    \n",
    "    return failure, output\n",
    "\n",
    "\n",
    "def find(text, part):\n",
    "    letters = set(list(''.join(part)))\n",
    "    goto, output = gotoFunction(part, letters)\n",
    "    failure, output = failureFunction(part, letters, goto, output)\n",
    "    state = 0\n",
    "    for i in range(len(text)):\n",
    "        if text[i] in letters:\n",
    "            while (state, text[i]) not in goto.keys() and state != 0:\n",
    "                state = failure[state] \n",
    "            state = goto[(state, text[i])] \n",
    "            if state in output.keys():\n",
    "                print(i+1, output[state])"
   ]
  },
  {
   "cell_type": "code",
   "execution_count": 55,
   "metadata": {},
   "outputs": [
    {
     "name": "stdout",
     "output_type": "stream",
     "text": [
      "1 ['G']\n",
      "2 ['C']\n",
      "6 ['G']\n",
      "7 ['C']\n"
     ]
    }
   ],
   "source": [
    "find(\"GCAAAGC\", \"GC\")"
   ]
  },
  {
   "cell_type": "code",
   "execution_count": null,
   "metadata": {},
   "outputs": [],
   "source": []
  }
 ],
 "metadata": {
  "kernelspec": {
   "display_name": "Python 3",
   "language": "python",
   "name": "python3"
  },
  "language_info": {
   "codemirror_mode": {
    "name": "ipython",
    "version": 3
   },
   "file_extension": ".py",
   "mimetype": "text/x-python",
   "name": "python",
   "nbconvert_exporter": "python",
   "pygments_lexer": "ipython3",
   "version": "3.7.3"
  }
 },
 "nbformat": 4,
 "nbformat_minor": 2
}
