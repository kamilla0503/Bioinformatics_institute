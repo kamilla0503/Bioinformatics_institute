{
 "cells": [
  {
   "cell_type": "markdown",
   "metadata": {},
   "source": [
    "https://drive.google.com/drive/folders/1AXTNAh9edJojGRcb3L8UFaZplwUsz3mV"
   ]
  },
  {
   "cell_type": "code",
   "execution_count": 1,
   "metadata": {},
   "outputs": [],
   "source": [
    "import matplotlib.pyplot as plt\n",
    "import random\n",
    "import numpy as np\n",
    "import pandas as pd\n",
    "from matplotlib.ticker import LogFormatter \n",
    "from scipy.optimize import curve_fit\n",
    "from pathlib import Path\n",
    "import matplotlib.colors\n",
    "import regex as re\n",
    "from matplotlib import ticker, cm\n",
    "\n",
    "from Bio import SeqIO, SeqUtils\n",
    "from Bio.SeqUtils import GC"
   ]
  },
  {
   "cell_type": "markdown",
   "metadata": {},
   "source": [
    "# Распределение GC "
   ]
  },
  {
   "cell_type": "code",
   "execution_count": 2,
   "metadata": {},
   "outputs": [],
   "source": [
    "def filter_fastq(filename): \n",
    "    \n",
    "    sequnce_data = SeqIO.parse(filename, 'fastq')\n",
    "    \n",
    "    filter_reads = []\n",
    "    \n",
    "    for record in sequnce_data:\n",
    "        #отфильтруем риды с некачественными нуклеотидами  с порогом 30 \n",
    "        if  np.min(record.letter_annotations['phred_quality']) >= 30:\n",
    "            filter_reads.append(record)\n",
    "                               \n",
    "    SeqIO.write(filter_reads, 'filtered_reads.fastq', 'fastq')"
   ]
  },
  {
   "cell_type": "code",
   "execution_count": 3,
   "metadata": {},
   "outputs": [],
   "source": [
    "filter_fastq(\"1/100x.1.fastq\")"
   ]
  },
  {
   "cell_type": "code",
   "execution_count": 10,
   "metadata": {},
   "outputs": [
    {
     "data": {
      "text/plain": [
       "Text(0, 0.5, 'Number of reads ')"
      ]
     },
     "execution_count": 10,
     "metadata": {},
     "output_type": "execute_result"
    },
    {
     "data": {
      "image/png": "[encoded data removed]",
      "text/plain": [
       "<Figure size 576x360 with 1 Axes>"
      ]
     },
     "metadata": {
      "needs_background": "light"
     },
     "output_type": "display_data"
    }
   ],
   "source": [
    "filtered_data = SeqIO.parse('filtered_reads.fastq', 'fastq')\n",
    "\n",
    "gc_distribution = {}\n",
    "\n",
    "for record in filtered_data:\n",
    "    count = SeqUtils.GC(record.seq) #ВРоде это можно использовать \n",
    "    if count not in gc_distribution.keys():\n",
    "        gc_distribution.update({count : 1})\n",
    "    else:\n",
    "        gc_distribution[count] += 1\n",
    "\n",
    "        \n",
    "fig = plt.figure(figsize=(8, 5))\n",
    "ax = fig.add_subplot(111)\n",
    "\n",
    "plt.scatter(gc_distribution.keys(), gc_distribution.values() )\n",
    "\n",
    "plt.xlabel(r' $ \\% $', fontsize = 22)\n",
    "plt.ylabel(r\"Number of reads \", fontsize=22)\n"
   ]
  },
  {
   "cell_type": "markdown",
   "metadata": {},
   "source": [
    "У меня не такое симметричное распределение, как в FastQc.\n",
    "Думаю, это вызвано тем, что я так профильтровала данные "
   ]
  },
  {
   "cell_type": "markdown",
   "metadata": {},
   "source": [
    "#  По FASTQ файлу построить распределение вероятности ошибки в зависимости от позиции нуклеотида. "
   ]
  },
  {
   "cell_type": "code",
   "execution_count": 22,
   "metadata": {},
   "outputs": [],
   "source": [
    "filtered_data = SeqIO.parse('filtered_reads.fastq', 'fastq')\n",
    "\n",
    "\n",
    "#Это такой способ получить размерности\n",
    "m  = 0 \n",
    "for record in filtered_data:\n",
    "    n = len(record.seq)\n",
    "    m = m + 1\n",
    "    \n",
    "#error_distr = np.zeros( (len (SeqIO.to_dict(filtered_data ) ), n))\n",
    "error_distr = np.zeros( ( m , n))\n",
    " \n",
    "#?\n",
    "filtered_data = SeqIO.parse('filtered_reads.fastq', 'fastq')\n",
    "i = 0\n",
    "for record in filtered_data: \n",
    "    error_distr[i, :] = np.power(10, -np.array(record.letter_annotations['phred_quality'])/10)\n",
    "    i = i + 1\n",
    " \n",
    " "
   ]
  },
  {
   "cell_type": "code",
   "execution_count": 24,
   "metadata": {},
   "outputs": [
    {
     "data": {
      "text/plain": [
       "14686600"
      ]
     },
     "execution_count": 24,
     "metadata": {},
     "output_type": "execute_result"
    }
   ],
   "source": [
    "np.sum(error_distr>0)"
   ]
  },
  {
   "cell_type": "code",
   "execution_count": 32,
   "metadata": {},
   "outputs": [
    {
     "data": {
      "text/plain": [
       "<AxesSubplot:>"
      ]
     },
     "execution_count": 32,
     "metadata": {},
     "output_type": "execute_result"
    },
    {
     "data": {
      "image/png": "[encoded data removed]",
      "text/plain": [
       "<Figure size 432x288 with 1 Axes>"
      ]
     },
     "metadata": {
      "needs_background": "light"
     },
     "output_type": "display_data"
    }
   ],
   "source": [
    "\n",
    "import seaborn as sns\n",
    "\n",
    "sns.boxplot(data = pd.DataFrame(error_distr[:, ::10]) ) "
   ]
  },
  {
   "cell_type": "code",
   "execution_count": null,
   "metadata": {},
   "outputs": [],
   "source": [
    "По оси ОХ расположены номер позиции/10  (Так получилось).\n",
    "\n",
    "\n",
    "График кажется похожим на результат FastQc, но сравнивать разную графику сложновато "
   ]
  }
 ],
 "metadata": {
  "kernelspec": {
   "display_name": "Python 3",
   "language": "python",
   "name": "python3"
  },
  "language_info": {
   "codemirror_mode": {
    "name": "ipython",
    "version": 3
   },
   "file_extension": ".py",
   "mimetype": "text/x-python",
   "name": "python",
   "nbconvert_exporter": "python",
   "pygments_lexer": "ipython3",
   "version": "3.8.5"
  }
 },
 "nbformat": 4,
 "nbformat_minor": 4
}
